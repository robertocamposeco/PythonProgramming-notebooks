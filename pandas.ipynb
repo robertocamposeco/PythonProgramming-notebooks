{
 "cells": [
  {
   "cell_type": "markdown",
   "metadata": {
    "slideshow": {
     "slide_type": "slide"
    }
   },
   "source": [
    "# pandas"
   ]
  },
  {
   "cell_type": "markdown",
   "metadata": {
    "lang": "en"
   },
   "source": [
    "## Contenidos \n",
    "\n",
    "- Veremos una introducción a las estructuras de datos `DataFrame` y `Series` de la librería *pandas* .\n",
    "- Veremos como manipular datos dentro de un `DataFrame` y `Series`. \n",
    "- Importaremos datos CSV en un `DataFrame`"
   ]
  },
  {
   "cell_type": "markdown",
   "metadata": {
    "lang": "es"
   },
   "source": [
    "[*pandas*](http://pandas.pydata.org/) es una API de análisis de datos orientada a columnas. Es una gran herramienta para manejar y analizar datos de entrada, y muchos paquetes de estadística y ML admiten estructuras de datos *pandas* como entradas.\n",
    "Aunque una introducción completa a la API *pandas* abarcaría muchas páginas, los conceptos básicos son bastante sencillos y los presentaremos a continuación. \n",
    "\n",
    "Para una referencia más completa, el [*pandas* docs site](http://pandas.pydata.org/pandas-docs/stable/index.html) contiene documentación extensa y muchos tutoriales."
   ]
  },
  {
   "cell_type": "markdown",
   "metadata": {
    "lang": "es"
   },
   "source": [
    "## pandas: análisis de datos en Python\n",
    "\n",
    "Para trabajos intensivos en datos en Python, la biblioteca [Pandas](http://pandas.pydata.org) se ha vuelto esencial.\n",
    "\n",
    "¿Qué es `pandas`?\n",
    "\n",
    "* Pandas puede considerarse como *arreglos de NumPy con etiquetas* para filas y columnas, y un mejor soporte para tipos de datos heterogéneos, pero también es mucho más que eso. *Los pandas también se pueden considerar como `data.frame` de `R` en Python.\n",
    "* Son potentes para trabajar con *datos faltantes*, trabajar con datos de *series de tiempo*, leer y escribir datos en diferentes formatos, remodelar, agrupar, fusionar sus datos, ...\n",
    "\n",
    "- Documentación: http://pandas.pydata.org/pandas-docs/stable/\n"
   ]
  },
  {
   "cell_type": "markdown",
   "metadata": {
    "lang": "es"
   },
   "source": [
    "## Conceptos básicos\n",
    "\n",
    "La siguiente línea importa la API *pandas* e imprime la versión de la API:"
   ]
  },
  {
   "cell_type": "code",
   "execution_count": null,
   "metadata": {
    "colab": {},
    "colab_type": "code",
    "id": "aSRYu62xUi3g"
   },
   "outputs": [],
   "source": [
    "import pandas as pd"
   ]
  },
  {
   "cell_type": "code",
   "execution_count": null,
   "metadata": {},
   "outputs": [],
   "source": [
    "pd.__version__"
   ]
  },
  {
   "cell_type": "markdown",
   "metadata": {
    "lang": "es"
   },
   "source": [
    "Las estructuras de datos primarias en *pandas* se implementan como dos clases:\n",
    "\n",
    "- **`DataFrame`**, que puedes imaginar como una tabla de datos relacionales, con filas y columnas con nombre.\n",
    "- **`Series`**, que es una sola columna. Un `DataFrame` contiene una o más `Series` y un nombre para cada `Series`.\n",
    "\n",
    "Los `DataFrames` son una abstracción de uso común para la manipulación de datos. Existen implementaciones similares en lenguajes como [R](https://www.r-project.org/about.html) y [Julia](https://dataframes.juliadata.org/stable/man/getting_started/)."
   ]
  },
  {
   "attachments": {},
   "cell_type": "markdown",
   "metadata": {
    "lang": "en"
   },
   "source": [
    "## Las estructuras de datos de pandas: `DataFrame` y `Series`\n",
    "\n",
    "Un `DataFrame` es una **estructura de datos tabulares** (objeto multidimensional para contener datos etiquetados) compuesto de filas y columnas, similar a una hoja de cálculo, una tabla de base de datos o un objeto data.frame de R. Puede considerarlo como un objeto Serie múltiple que comparte el mismo índice.\n",
    "\n",
    "- https://pandas.pydata.org/docs/getting_started/index.html\n",
    "\n",
    "![DataFrame](https://pandas.pydata.org/docs/_images/01_table_dataframe.svg)"
   ]
  },
  {
   "cell_type": "markdown",
   "metadata": {
    "lang": "es"
   },
   "source": [
    "## Crear `Series` y `DataFrame` desde cero"
   ]
  },
  {
   "cell_type": "markdown",
   "metadata": {
    "lang": "es"
   },
   "source": [
    "Una forma de crear una `Serie` es construir un objeto `Serie`. Por ejemplo:"
   ]
  },
  {
   "cell_type": "code",
   "execution_count": null,
   "metadata": {
    "colab": {},
    "colab_type": "code",
    "id": "DFZ42Uq7UFDj"
   },
   "outputs": [],
   "source": [
    "s = pd.Series(['San Francisco', 'San Jose', 'Sacramento'])\n",
    "s"
   ]
  },
  {
   "cell_type": "markdown",
   "metadata": {
    "lang": "es"
   },
   "source": [
    "Los objetos `DataFrame` se pueden crear pasando un `dict` mapeando los nombres de las columnas `string` a sus respectivas `Series`. \n",
    "\n",
    "- Si las `Series` no coinciden en longitud, los valores faltantes se completan con valores especiales [NA/NaN](http://pandas.pydata.org/pandas-docs/stable/missing_data.html."
   ]
  },
  {
   "cell_type": "code",
   "execution_count": null,
   "metadata": {
    "colab": {},
    "colab_type": "code",
    "id": "avgr6GfiUh8t"
   },
   "outputs": [],
   "source": [
    "city_names = pd.Series(['San Francisco', 'San Jose', 'Sacramento'])\n",
    "population = pd.Series([852469, 1015785, 485199])\n",
    "\n",
    "df = pd.DataFrame({ 'City name': city_names, 'Population': population })\n",
    "df"
   ]
  },
  {
   "cell_type": "markdown",
   "metadata": {
    "lang": "es"
   },
   "source": [
    "## Cargar datos desde un archivo CSV\n",
    "\n",
    "- Y otros formatos: https://pandas.pydata.org/docs/getting_started/index.html"
   ]
  },
  {
   "cell_type": "code",
   "execution_count": 4,
   "metadata": {},
   "outputs": [],
   "source": [
    "titanic_url = \"https://raw.githubusercontent.com/datasciencedojo/datasets/master/titanic.csv\""
   ]
  },
  {
   "cell_type": "code",
   "execution_count": null,
   "metadata": {},
   "outputs": [],
   "source": [
    "df = pd.read_csv(titanic_url)"
   ]
  },
  {
   "cell_type": "code",
   "execution_count": null,
   "metadata": {},
   "outputs": [],
   "source": [
    "df.head(5)"
   ]
  },
  {
   "cell_type": "markdown",
   "metadata": {
    "lang": "es"
   },
   "source": [
    "## ¿Qué puedes hacer con los pandas?"
   ]
  },
  {
   "cell_type": "markdown",
   "metadata": {
    "lang": "es"
   },
   "source": [
    "Desde leer este conjunto de datos hasta responder preguntas sobre estos datos en unas pocas líneas de código:"
   ]
  },
  {
   "cell_type": "markdown",
   "metadata": {
    "lang": "es"
   },
   "source": [
    "**¿Cuál es la distribución por edades de los pasajeros?**"
   ]
  },
  {
   "cell_type": "code",
   "execution_count": null,
   "metadata": {},
   "outputs": [],
   "source": [
    "df['Age'].hist()"
   ]
  },
  {
   "cell_type": "markdown",
   "metadata": {
    "lang": "es"
   },
   "source": [
    "**¿Cómo difiere la tasa de supervivencia de los pasajeros entre sexos?**"
   ]
  },
  {
   "cell_type": "code",
   "execution_count": null,
   "metadata": {},
   "outputs": [],
   "source": [
    "(df\n",
    "    .groupby('Sex')[['Survived']] \n",
    "    .aggregate(lambda x: x.sum() / len(x)))"
   ]
  },
  {
   "cell_type": "markdown",
   "metadata": {
    "lang": "es"
   },
   "source": [
    "**¿O cómo difiere entre las diferentes clases?**"
   ]
  },
  {
   "cell_type": "code",
   "execution_count": null,
   "metadata": {
    "scrolled": true
   },
   "outputs": [],
   "source": [
    "df \\\n",
    "    .groupby('Pclass')['Survived']\\\n",
    "    .aggregate(lambda x: x.sum() / len(x))\\\n",
    "    .plot(kind='bar')"
   ]
  },
  {
   "cell_type": "markdown",
   "metadata": {},
   "source": [
    "***"
   ]
  },
  {
   "cell_type": "markdown",
   "metadata": {
    "lang": "es"
   },
   "source": [
    "## Atributos de un `Series`: `index` y `values`\n",
    "\n",
    "La Serie tiene un atributo `index` y `values`, pero no tiene `columns`"
   ]
  },
  {
   "cell_type": "code",
   "execution_count": null,
   "metadata": {
    "lang": "en"
   },
   "outputs": [],
   "source": [
    "age = df['Age']\n",
    "type(age)"
   ]
  },
  {
   "cell_type": "code",
   "execution_count": null,
   "metadata": {},
   "outputs": [],
   "source": [
    "age.index"
   ]
  },
  {
   "cell_type": "markdown",
   "metadata": {
    "lang": "es"
   },
   "source": [
    "Puede acceder a la representación de matriz numpy subyacente con el atributo `.values`:"
   ]
  },
  {
   "cell_type": "code",
   "execution_count": null,
   "metadata": {
    "scrolled": false
   },
   "outputs": [],
   "source": [
    "age.values[:10]"
   ]
  },
  {
   "cell_type": "markdown",
   "metadata": {
    "lang": "es"
   },
   "source": [
    "Podemos acceder a los valores de la serie a través del índice, al igual que para las matrices NumPy:"
   ]
  },
  {
   "cell_type": "code",
   "execution_count": null,
   "metadata": {},
   "outputs": [],
   "source": [
    "age[0]"
   ]
  },
  {
   "cell_type": "markdown",
   "metadata": {
    "lang": "es"
   },
   "source": [
    "Sin embargo, a diferencia de la matriz NumPy, este índice puede ser algo más que números enteros:"
   ]
  },
  {
   "cell_type": "code",
   "execution_count": null,
   "metadata": {},
   "outputs": [],
   "source": [
    "df2 = df.set_index('Name')\n",
    "df2.head()"
   ]
  },
  {
   "cell_type": "code",
   "execution_count": null,
   "metadata": {},
   "outputs": [],
   "source": [
    "age = df2['Age']\n",
    "age"
   ]
  },
  {
   "cell_type": "code",
   "execution_count": null,
   "metadata": {},
   "outputs": [],
   "source": [
    "age['Dooley, Mr. Patrick']"
   ]
  },
  {
   "cell_type": "markdown",
   "metadata": {
    "lang": "es"
   },
   "source": [
    "pero con el poder de las matrices numpy. Muchas cosas que puede hacer con matrices numpy también se pueden aplicar en DataFrames / Series.\n",
    "\n",
    "Por ejemplo, operaciones elementales:"
   ]
  },
  {
   "cell_type": "code",
   "execution_count": null,
   "metadata": {},
   "outputs": [],
   "source": [
    "age * 1000"
   ]
  },
  {
   "cell_type": "markdown",
   "metadata": {
    "lang": "es"
   },
   "source": [
    "Una gama de métodos:"
   ]
  },
  {
   "cell_type": "code",
   "execution_count": null,
   "metadata": {},
   "outputs": [],
   "source": [
    "age.mean()"
   ]
  },
  {
   "cell_type": "markdown",
   "metadata": {
    "lang": "es"
   },
   "source": [
    "Indexación sofisticada, como la indexación con una lista o la indexación booleana:"
   ]
  },
  {
   "cell_type": "code",
   "execution_count": null,
   "metadata": {},
   "outputs": [],
   "source": [
    "age[age > 70]"
   ]
  },
  {
   "cell_type": "markdown",
   "metadata": {
    "lang": "es"
   },
   "source": [
    "Pero también muchos métodos específicos de pandas, p."
   ]
  },
  {
   "cell_type": "code",
   "execution_count": null,
   "metadata": {
    "scrolled": true
   },
   "outputs": [],
   "source": [
    "df['Embarked'].value_counts()"
   ]
  },
  {
   "cell_type": "markdown",
   "metadata": {},
   "source": [
    "***"
   ]
  },
  {
   "cell_type": "markdown",
   "metadata": {
    "lang": "es"
   },
   "source": [
    "# Atributos del `DataFrame`\n",
    "\n",
    "Un DataFrame tiene además de un atributo `index`, también un atributo `columns`:"
   ]
  },
  {
   "cell_type": "code",
   "execution_count": null,
   "metadata": {},
   "outputs": [],
   "source": [
    "df.index"
   ]
  },
  {
   "cell_type": "code",
   "execution_count": null,
   "metadata": {},
   "outputs": [],
   "source": [
    "df.columns"
   ]
  },
  {
   "cell_type": "markdown",
   "metadata": {
    "lang": "es"
   },
   "source": [
    "Para comprobar los tipos de datos de las diferentes columnas:"
   ]
  },
  {
   "cell_type": "code",
   "execution_count": null,
   "metadata": {},
   "outputs": [],
   "source": [
    "df.dtypes"
   ]
  },
  {
   "cell_type": "markdown",
   "metadata": {
    "lang": "es"
   },
   "source": [
    "Se puede dar una visión general de esa información con el método `info()`:"
   ]
  },
  {
   "cell_type": "code",
   "execution_count": null,
   "metadata": {},
   "outputs": [],
   "source": [
    "df.info()"
   ]
  },
  {
   "cell_type": "markdown",
   "metadata": {
    "lang": "es"
   },
   "source": [
    "También un DataFrame tiene un atributo `values`, pero atención: cuando tiene datos heterogéneos, todos los valores serán **upcasted**:"
   ]
  },
  {
   "cell_type": "code",
   "execution_count": null,
   "metadata": {
    "scrolled": true
   },
   "outputs": [],
   "source": [
    "df.values"
   ]
  },
  {
   "cell_type": "markdown",
   "metadata": {},
   "source": [
    "***"
   ]
  },
  {
   "cell_type": "markdown",
   "metadata": {
    "lang": "es"
   },
   "source": [
    "## Cargar archivos CSV desde URL"
   ]
  },
  {
   "cell_type": "markdown",
   "metadata": {
    "lang": "es"
   },
   "source": [
    "Pero la mayoría de las veces, carga un archivo completo en un `DataFrame`. El siguiente ejemplo carga un archivo con datos de precios de viviendas de California. Ejecutamos la siguiente celda para cargar los datos y crear la definición de características:"
   ]
  },
  {
   "cell_type": "code",
   "execution_count": null,
   "metadata": {
    "colab": {},
    "colab_type": "code",
    "id": "av6RYOraVG1V"
   },
   "outputs": [],
   "source": [
    "california_housing_dataframe = pd.read_csv(\"https://download.mlcc.google.com/mledu-datasets/california_housing_train.csv\", sep=\",\")\n",
    "california_housing_dataframe.describe()"
   ]
  },
  {
   "cell_type": "markdown",
   "metadata": {
    "lang": "es"
   },
   "source": [
    "El ejemplo anterior usó `DataFrame.describe` para mostrar estadísticas interesantes sobre un `DataFrame`. Otra función útil es `DataFrame.head`, que muestra los primeros registros de un `DataFrame`:"
   ]
  },
  {
   "cell_type": "code",
   "execution_count": null,
   "metadata": {
    "colab": {},
    "colab_type": "code",
    "id": "s3ND3bgOkB5k"
   },
   "outputs": [],
   "source": [
    "california_housing_dataframe.head()"
   ]
  },
  {
   "cell_type": "markdown",
   "metadata": {
    "lang": "es"
   },
   "source": [
    "Otra poderosa característica de *pandas* son los gráficos. Por ejemplo, `DataFrame.hist` te permite estudiar rápidamente la distribución de valores en una columna:"
   ]
  },
  {
   "cell_type": "code",
   "execution_count": null,
   "metadata": {},
   "outputs": [],
   "source": [
    "# california_housing_dataframe.hist?"
   ]
  },
  {
   "cell_type": "code",
   "execution_count": null,
   "metadata": {
    "colab": {},
    "colab_type": "code",
    "id": "nqndFVXVlbPN"
   },
   "outputs": [],
   "source": [
    "california_housing_dataframe.hist('housing_median_age')"
   ]
  },
  {
   "cell_type": "markdown",
   "metadata": {
    "lang": "es"
   },
   "source": [
    "## Acceso a los datos\n",
    "\n",
    "Podemos acceder a los datos de `DataFrame` utilizando operaciones familiares de diccionarios/listas de Python:"
   ]
  },
  {
   "cell_type": "code",
   "execution_count": null,
   "metadata": {
    "colab": {},
    "colab_type": "code",
    "id": "_TFm7-looBFF"
   },
   "outputs": [],
   "source": [
    "cities = pd.DataFrame({ 'City name': city_names, 'Population': population })\n",
    "print(type(cities['City name']))\n",
    "cities['City name']"
   ]
  },
  {
   "cell_type": "code",
   "execution_count": null,
   "metadata": {
    "colab": {},
    "colab_type": "code",
    "id": "V5L6xacLoxyv"
   },
   "outputs": [],
   "source": [
    "print(type(cities['City name'][1]))\n",
    "cities['City name'][1]"
   ]
  },
  {
   "cell_type": "code",
   "execution_count": null,
   "metadata": {
    "colab": {},
    "colab_type": "code",
    "id": "gcYX1tBPugZl"
   },
   "outputs": [],
   "source": [
    "print(type(cities[0:2]))\n",
    "cities[0:2]"
   ]
  },
  {
   "cell_type": "markdown",
   "metadata": {
    "lang": "es"
   },
   "source": [
    "Además, *pandas* proporciona una API extremadamente rica para [indexación y selección] avanzadas (http://pandas.pydata.org/pandas-docs/stable/indexing.html) que es demasiado extensa para cubrirla. aquí."
   ]
  },
  {
   "cell_type": "markdown",
   "metadata": {
    "lang": "es"
   },
   "source": [
    "## Manipulación de datos\n",
    "\n",
    "Podemos aplicar las operaciones aritméticas básicas de Python a `Series`. Por ejemplo:"
   ]
  },
  {
   "cell_type": "code",
   "execution_count": null,
   "metadata": {
    "colab": {},
    "colab_type": "code",
    "id": "XWmyCFJ5bOv-",
    "scrolled": true
   },
   "outputs": [],
   "source": [
    "population / 1000."
   ]
  },
  {
   "cell_type": "markdown",
   "metadata": {
    "lang": "es"
   },
   "source": [
    "[NumPy](http://www.numpy.org/) es un conjunto de herramientas popular para la computación científica. *pandas* `Series` se puede usar como argumento para la mayoría de las funciones NumPy:"
   ]
  },
  {
   "cell_type": "code",
   "execution_count": null,
   "metadata": {
    "colab": {},
    "colab_type": "code",
    "id": "ko6pLK6JmkYP"
   },
   "outputs": [],
   "source": [
    "import numpy as np\n",
    "\n",
    "np.log(population)"
   ]
  },
  {
   "cell_type": "markdown",
   "metadata": {
    "lang": "es"
   },
   "source": [
    "Para transformaciones de una sola columna más complejas, puede usar `Series.apply`. Al igual que la [función de mapa] de Python (https://docs.python.org/2/library/functions.html#map),\n",
    "`Series.apply` acepta como argumento una [función lambda](https://docs.python.org/2/tutorial/controlflow.html#lambda-expressions), que se aplica a cada valor.\n",
    "\n",
    "El siguiente ejemplo crea una nueva 'Serie' que indica si la 'población' supera el millón:"
   ]
  },
  {
   "cell_type": "code",
   "execution_count": null,
   "metadata": {
    "colab": {},
    "colab_type": "code",
    "id": "Fc1DvPAbstjI"
   },
   "outputs": [],
   "source": [
    "population.apply(lambda val: val > 1000000)"
   ]
  },
  {
   "cell_type": "markdown",
   "metadata": {
    "lang": "es"
   },
   "source": [
    "Modificar `DataFrames` también es sencillo. Por ejemplo, el siguiente código agrega dos `Series` a un `DataFrame` existente:"
   ]
  },
  {
   "cell_type": "code",
   "execution_count": null,
   "metadata": {
    "colab": {},
    "colab_type": "code",
    "id": "0gCEX99Hb8LR"
   },
   "outputs": [],
   "source": [
    "cities['Area square miles'] = pd.Series([46.87, 176.53, 97.92])\n",
    "cities['Population density'] = cities['Population'] / cities['Area square miles']\n",
    "cities"
   ]
  },
  {
   "cell_type": "markdown",
   "metadata": {
    "lang": "es"
   },
   "source": [
    "# Seleccionar y filtrar datos"
   ]
  },
  {
   "cell_type": "markdown",
   "metadata": {
    "lang": "es"
   },
   "source": [
    "<div class=\"alert alert-warning\">\n",
    "<b>¡ATENCIÓN!</b>: <br><br>\n",
    "\n",
    "Una de las características básicas de pandas es el etiquetado de filas y columnas, pero esto hace que la indexación también sea un poco más compleja en comparación con numpy. <br><br> Ahora tenemos que distinguir entre:\n",
    "- Selección por etiqueta\n",
    "- Selección por posición\n"
   ]
  },
  {
   "cell_type": "code",
   "execution_count": null,
   "metadata": {},
   "outputs": [],
   "source": [
    "df = pd.read_csv(titanic_url)"
   ]
  },
  {
   "cell_type": "markdown",
   "metadata": {
    "lang": "es"
   },
   "source": [
    "### `df[]` proporciona algunos atajos convenientes"
   ]
  },
  {
   "cell_type": "markdown",
   "metadata": {
    "lang": "es"
   },
   "source": [
    "Para un DataFrame, la indexación básica selecciona las columnas se puede hacer con `[]`.\n",
    "\n",
    "Seleccionando una sola columna:"
   ]
  },
  {
   "cell_type": "code",
   "execution_count": null,
   "metadata": {},
   "outputs": [],
   "source": [
    "df['Age']"
   ]
  },
  {
   "cell_type": "markdown",
   "metadata": {
    "lang": "es"
   },
   "source": [
    "o varias columnas:"
   ]
  },
  {
   "cell_type": "code",
   "execution_count": null,
   "metadata": {},
   "outputs": [],
   "source": [
    "df[['Age', 'Fare']]"
   ]
  },
  {
   "cell_type": "markdown",
   "metadata": {
    "lang": "es"
   },
   "source": [
    "Pero, el indexado con valores numéricos accede a las filas:"
   ]
  },
  {
   "cell_type": "code",
   "execution_count": null,
   "metadata": {},
   "outputs": [],
   "source": [
    "df[10:15]"
   ]
  },
  {
   "cell_type": "markdown",
   "metadata": {
    "lang": "es"
   },
   "source": [
    "## Indexación sistemática con `loc` y `iloc`\n",
    "\n",
    "Cuando utilizamos `[]` como arriba, solo podemos seleccionar de un eje a la vez (filas o columnas, no ambos). Para una indexación más avanzada, tenemos algunos atributos adicionales:\n",
    "    \n",
    "* `loc`: selección por etiqueta\n",
    "* `iloc`: selección por posición"
   ]
  },
  {
   "cell_type": "code",
   "execution_count": null,
   "metadata": {},
   "outputs": [],
   "source": [
    "df = df.set_index('Name')"
   ]
  },
  {
   "cell_type": "code",
   "execution_count": null,
   "metadata": {},
   "outputs": [],
   "source": [
    "df.loc['Bonnell, Miss. Elizabeth', 'Fare']"
   ]
  },
  {
   "cell_type": "code",
   "execution_count": null,
   "metadata": {
    "scrolled": true
   },
   "outputs": [],
   "source": [
    "df.loc['Bonnell, Miss. Elizabeth':'Andersson, Mr. Anders Johan', :]"
   ]
  },
  {
   "cell_type": "markdown",
   "metadata": {
    "lang": "es"
   },
   "source": [
    "Seleccionar por posición con `iloc` funciona de manera similar a indexar matrices numpy:"
   ]
  },
  {
   "cell_type": "code",
   "execution_count": null,
   "metadata": {},
   "outputs": [],
   "source": [
    "df.iloc[0:2,1:3]"
   ]
  },
  {
   "cell_type": "markdown",
   "metadata": {
    "lang": "es"
   },
   "source": [
    "Los diferentes métodos de indexación también se pueden utilizar para asignar datos:"
   ]
  },
  {
   "cell_type": "code",
   "execution_count": null,
   "metadata": {},
   "outputs": [],
   "source": [
    "df.loc['Braund, Mr. Owen Harris', 'Survived'] = 100"
   ]
  },
  {
   "cell_type": "code",
   "execution_count": null,
   "metadata": {},
   "outputs": [],
   "source": [
    "df"
   ]
  },
  {
   "cell_type": "markdown",
   "metadata": {
    "lang": "es"
   },
   "source": [
    "## Indexación booleana (filtrado)"
   ]
  },
  {
   "cell_type": "markdown",
   "metadata": {
    "lang": "es"
   },
   "source": [
    "A menudo, es deseable seleccionar filas en función de una determinada condición. Esto se puede hacer con 'indexación booleana' (como una cláusula *where* en SQL) y comparable al indexado booleano de numpy.\n",
    "\n",
    "El indexador (o la máscara booleana) debe ser unidimensional y de la misma longitud que el elemento indexado."
   ]
  },
  {
   "cell_type": "code",
   "execution_count": null,
   "metadata": {
    "run_control": {
     "frozen": false,
     "read_only": false
    }
   },
   "outputs": [],
   "source": [
    "df['Fare'] > 50"
   ]
  },
  {
   "cell_type": "code",
   "execution_count": null,
   "metadata": {
    "run_control": {
     "frozen": false,
     "read_only": false
    },
    "scrolled": false
   },
   "outputs": [],
   "source": [
    "df[df['Fare'] > 50]"
   ]
  },
  {
   "cell_type": "markdown",
   "metadata": {
    "lang": "en"
   },
   "source": [
    "# The *group-by* operation"
   ]
  },
  {
   "cell_type": "code",
   "execution_count": null,
   "metadata": {},
   "outputs": [],
   "source": [
    "df = pd.read_csv(titanic_url)"
   ]
  },
  {
   "cell_type": "markdown",
   "metadata": {
    "lang": "en"
   },
   "source": [
    "### Groupby: applying functions per group"
   ]
  },
  {
   "attachments": {},
   "cell_type": "markdown",
   "metadata": {
    "lang": "en",
    "slideshow": {
     "slide_type": "subslide"
    }
   },
   "source": [
    "El concepto de \"agrupar por\": queremos **aplicar la misma función en subconjuntos de su marco de datos, en función de alguna clave para dividir el marco de datos en subconjuntos**\n",
    "\n",
    "Esta operación también se conoce como la operación \"dividir-aplicar-combinar\", y comprende los siguientes pasos:\n",
    "\n",
    "* **Dividir** los datos en grupos según algunos criterios\n",
    "* **Aplicar** una función a cada grupo de forma independiente\n",
    "* **Combinar** los resultados en una estructura de datos\n",
    "\n",
    "![splitApplyCombine](images/pandas/split-apply-combine.jpg)\n",
    "\n",
    "Similar a la sentencia de SQL `GROUP BY`"
   ]
  },
  {
   "cell_type": "markdown",
   "metadata": {
    "lang": "es"
   },
   "source": [
    "En lugar de hacer el filtrado manual como se indica arriba\n",
    "\n",
    "    df[df['key'] == \"A\"].sum()\n",
    "    df[df['key'] == \"B\"].sum()\n",
    "    ...\n",
    "\n",
    "pandas proporciona el método `groupby` para hacer exactamente esto:"
   ]
  },
  {
   "cell_type": "code",
   "execution_count": null,
   "metadata": {
    "run_control": {
     "frozen": false,
     "read_only": false
    }
   },
   "outputs": [],
   "source": [
    "df.groupby('Pclass').sum()"
   ]
  },
  {
   "cell_type": "code",
   "execution_count": null,
   "metadata": {
    "run_control": {
     "frozen": false,
     "read_only": false
    },
    "slideshow": {
     "slide_type": "subslide"
    }
   },
   "outputs": [],
   "source": [
    "df.groupby('Pclass').aggregate(np.sum)  # 'sum'"
   ]
  },
  {
   "cell_type": "markdown",
   "metadata": {
    "lang": "es"
   },
   "source": [
    "Y también tenemos muchos más métodos disponibles:"
   ]
  },
  {
   "cell_type": "code",
   "execution_count": null,
   "metadata": {
    "run_control": {
     "frozen": false,
     "read_only": false
    },
    "scrolled": true
   },
   "outputs": [],
   "source": [
    "df.groupby('Pclass')['Age'].mean()"
   ]
  },
  {
   "cell_type": "markdown",
   "metadata": {
    "lang": "en"
   },
   "source": [
    "## Otros temas a revisar"
   ]
  },
  {
   "cell_type": "markdown",
   "metadata": {
    "lang": "es"
   },
   "source": [
    "- https://pandas.pydata.org/Pandas_Cheat_Sheet.pdf\n",
    "\n",
    "- Concatenar datos: `pd.concat`\n",
    "- Unión de DataFrames: `pd.merge`\n",
    "- Pivotear datos: `pivot_table`, `melt`, `stack`, `unstack`\n",
    "- Trabajar con datos faltantes: `isnull`, `dropna`, `interpolate`, ...\n",
    "- mucho más..."
   ]
  },
  {
   "cell_type": "markdown",
   "metadata": {
    "lang": "es"
   },
   "source": [
    "## Otras lecturas\n",
    "\n",
    "* Documentación de Pandas: http://pandas.pydata.org/pandas-docs/stable/\n",
    "* Libros\n",
    "\n",
    "    * \"Python para análisis de datos\" por Wes McKinney\n",
    "    * \"Python Data Science Handbook\" por Jake VanderPlas\n",
    "        - Revisar el capítulo de \"Trabajando con series de tiempo\"\n",
    "\n",
    "* Tutoriales (¡muchos buenos tutoriales en línea!)\n",
    "    * https://github.com/jorisvandenbossche/pandas-tutorial\n",
    "    * https://github.com/brandon-rhodes/pycon-pandas-tutorial"
   ]
  },
  {
   "cell_type": "markdown",
   "metadata": {},
   "source": [
    "## Ejercicios"
   ]
  },
  {
   "cell_type": "markdown",
   "metadata": {},
   "source": [
    "- Con el chivo en PDF de arriba y el conjunto de datos del Titanic, realizar 10 ejemplos con métodos o funciones no vistas en este cuaderno. "
   ]
  },
  {
   "cell_type": "code",
   "execution_count": 3,
   "metadata": {},
   "outputs": [],
   "source": [
    "import pandas as pd"
   ]
  },
  {
   "cell_type": "markdown",
   "metadata": {},
   "source": [
    "- Revisar el capítulo \"Trabajando con series de tiempo\" del libro \"Python Data Science Handbook\". \n",
    "    - Descargar una serie temporal de frecuencia diaria (con al menos 3 años de datos disponibles) y cargarla en un DataFrame de pandas.\n",
    "    - Desarrollar las operaciones necesarias para obtener un DataFrame que resuma los promedios mensuales en un DataFrame. El `index` del DataFrame debe ser un `DatetimeIndex` con frecuencia mensual. \n",
    "    - Obtener un DataFrame con las variaciones intermensuales del anterior. Se puede trabajar también agregando una columna adicional. \n",
    "    - Realizar el mismo ejercicio para obtener el promedio trimestral. \n",
    "    - Obtener un DataFrame con una media móvil de 4 períodos del promedio trimestral."
   ]
  },
  {
   "cell_type": "code",
   "execution_count": 6,
   "metadata": {},
   "outputs": [],
   "source": [
    "# pd.date_range?"
   ]
  },
  {
   "cell_type": "code",
   "execution_count": null,
   "metadata": {},
   "outputs": [],
   "source": []
  }
 ],
 "metadata": {
  "colab": {
   "collapsed_sections": [
    "JndnmDMp66FL",
    "YHIWvc9Ms-Ll",
    "TJffr5_Jwqvd"
   ],
   "name": "intro_to_pandas.ipynb",
   "provenance": []
  },
  "kernelspec": {
   "display_name": "Python 3 (ipykernel)",
   "language": "python",
   "name": "python3"
  },
  "language_info": {
   "codemirror_mode": {
    "name": "ipython",
    "version": 3
   },
   "file_extension": ".py",
   "mimetype": "text/x-python",
   "name": "python",
   "nbconvert_exporter": "python",
   "pygments_lexer": "ipython3",
   "version": "3.9.7"
  },
  "nbTranslate": {
   "displayLangs": [
    "en",
    "es"
   ],
   "hotkey": "alt-t",
   "langInMainMenu": true,
   "sourceLang": "en",
   "targetLang": "es",
   "useGoogleTranslate": true
  }
 },
 "nbformat": 4,
 "nbformat_minor": 1
}
