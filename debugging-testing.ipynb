{
 "cells": [
  {
   "cell_type": "markdown",
   "metadata": {},
   "source": [
    "## Programación defensiva, pruebas y depuración\n"
   ]
  },
  {
   "cell_type": "markdown",
   "metadata": {
    "slideshow": {
     "slide_type": "slide"
    }
   },
   "source": [
    "## Contenidos\n",
    "\n",
    "> \"*Always code as if the guy who ends up maintaining your code will be a violent psychopath who knows where you live.*\" **John Woods**\n",
    "\n",
    "- Programación defensiva\n",
    "  - Sentencias de excepción y manejo de errores. \n",
    "  - Pruebas\n",
    "  - Depuración"
   ]
  },
  {
   "cell_type": "markdown",
   "metadata": {},
   "source": [
    "***\n",
    "## Programación defensiva"
   ]
  },
  {
   "cell_type": "markdown",
   "metadata": {},
   "source": [
    "- [Programación defensiva](https://es.wikipedia.org/wiki/Programaci%C3%B3n_defensiva)"
   ]
  },
  {
   "cell_type": "markdown",
   "metadata": {},
   "source": [
    "### Diseño modular"
   ]
  },
  {
   "cell_type": "code",
   "execution_count": 1,
   "metadata": {},
   "outputs": [],
   "source": [
    "def input_compute():\n",
    "    a = int(input(\"Ingresa a: \"))\n",
    "    b = int(input(\"Ingresa b: \"))\n",
    "    \n",
    "    c = 2*a + 5*b\n",
    "    z, t = 0, 0\n",
    "    while t < c:\n",
    "        if t % 2 == 0: \n",
    "            z += t\n",
    "        t += 1\n",
    "    return z"
   ]
  },
  {
   "cell_type": "code",
   "execution_count": 2,
   "metadata": {},
   "outputs": [
    {
     "data": {
      "text/plain": [
       "30"
      ]
     },
     "execution_count": 2,
     "metadata": {},
     "output_type": "execute_result"
    }
   ],
   "source": [
    "input_compute()"
   ]
  },
  {
   "cell_type": "code",
   "execution_count": 5,
   "metadata": {},
   "outputs": [],
   "source": [
    "def user_input(): \n",
    "    \"\"\"\n",
    "    Toda la entrada del usuario y devuelve (a,b) numéricas.\n",
    "    \"\"\"\n",
    "    a = int(input(\"Ingresa a: \"))\n",
    "    b = int(input(\"Ingresa b: \"))\n",
    "    return a, b\n",
    "\n",
    "def compute(a: int, b:int):\n",
    "    \"\"\"\n",
    "    Recibe a y b y computa la suma de números pares hasta 2a + 5b\n",
    "    \"\"\"\n",
    "    c = 2*a + 5*b\n",
    "    z, t = 0, 0\n",
    "    while t < c:\n",
    "        if t % 2 == 0: \n",
    "            z += t\n",
    "        t += 1\n",
    "    return z"
   ]
  },
  {
   "cell_type": "code",
   "execution_count": 4,
   "metadata": {},
   "outputs": [
    {
     "data": {
      "text/plain": [
       "30"
      ]
     },
     "execution_count": 4,
     "metadata": {},
     "output_type": "execute_result"
    }
   ],
   "source": [
    "a, b = user_input()\n",
    "compute(a,b)"
   ]
  },
  {
   "cell_type": "markdown",
   "metadata": {},
   "source": [
    "### Errores y excepciones\n",
    "\n",
    "- [Errores y excepciones](https://docs.python.org/3/tutorial/errors.html)\n",
    "\n",
    "Cuando la ejecución de un procedimiento alcanza una condición no esperada se genera una **excepción**. A continuación, vemos algunos ejemplos de excepciones: "
   ]
  },
  {
   "cell_type": "code",
   "execution_count": 1,
   "metadata": {},
   "outputs": [
    {
     "ename": "IndexError",
     "evalue": "list index out of range",
     "output_type": "error",
     "traceback": [
      "\u001b[1;31m---------------------------------------------------------------------------\u001b[0m",
      "\u001b[1;31mIndexError\u001b[0m                                Traceback (most recent call last)",
      "\u001b[1;32m~\\AppData\\Local\\Temp/ipykernel_16288/3233721554.py\u001b[0m in \u001b[0;36m<module>\u001b[1;34m\u001b[0m\n\u001b[0;32m      1\u001b[0m \u001b[0mtest\u001b[0m \u001b[1;33m=\u001b[0m \u001b[1;33m[\u001b[0m\u001b[1;36m1\u001b[0m\u001b[1;33m,\u001b[0m\u001b[1;36m2\u001b[0m\u001b[1;33m,\u001b[0m\u001b[1;36m3\u001b[0m\u001b[1;33m]\u001b[0m\u001b[1;33m\u001b[0m\u001b[1;33m\u001b[0m\u001b[0m\n\u001b[1;32m----> 2\u001b[1;33m \u001b[0mtest\u001b[0m\u001b[1;33m[\u001b[0m\u001b[1;36m4\u001b[0m\u001b[1;33m]\u001b[0m\u001b[1;33m\u001b[0m\u001b[1;33m\u001b[0m\u001b[0m\n\u001b[0m",
      "\u001b[1;31mIndexError\u001b[0m: list index out of range"
     ]
    }
   ],
   "source": [
    "test = [1,2,3]\n",
    "test[4]"
   ]
  },
  {
   "cell_type": "code",
   "execution_count": 3,
   "metadata": {},
   "outputs": [
    {
     "ename": "ValueError",
     "evalue": "invalid literal for int() with base 10: 'Oneros'",
     "output_type": "error",
     "traceback": [
      "\u001b[1;31m---------------------------------------------------------------------------\u001b[0m",
      "\u001b[1;31mValueError\u001b[0m                                Traceback (most recent call last)",
      "\u001b[1;32m~\\AppData\\Local\\Temp/ipykernel_16288/3562333449.py\u001b[0m in \u001b[0;36m<module>\u001b[1;34m\u001b[0m\n\u001b[1;32m----> 1\u001b[1;33m \u001b[0mint\u001b[0m\u001b[1;33m(\u001b[0m\u001b[1;34m\"Oneros\"\u001b[0m\u001b[1;33m)\u001b[0m\u001b[1;33m\u001b[0m\u001b[1;33m\u001b[0m\u001b[0m\n\u001b[0m",
      "\u001b[1;31mValueError\u001b[0m: invalid literal for int() with base 10: 'Oneros'"
     ]
    }
   ],
   "source": [
    "int(\"Oneros\")"
   ]
  },
  {
   "cell_type": "code",
   "execution_count": 4,
   "metadata": {},
   "outputs": [
    {
     "ename": "TypeError",
     "evalue": "unsupported operand type(s) for /: 'str' and 'int'",
     "output_type": "error",
     "traceback": [
      "\u001b[1;31m---------------------------------------------------------------------------\u001b[0m",
      "\u001b[1;31mTypeError\u001b[0m                                 Traceback (most recent call last)",
      "\u001b[1;32m~\\AppData\\Local\\Temp/ipykernel_16288/1872041032.py\u001b[0m in \u001b[0;36m<module>\u001b[1;34m\u001b[0m\n\u001b[1;32m----> 1\u001b[1;33m \u001b[1;34m'3'\u001b[0m \u001b[1;33m/\u001b[0m \u001b[1;36m4\u001b[0m\u001b[1;33m\u001b[0m\u001b[1;33m\u001b[0m\u001b[0m\n\u001b[0m",
      "\u001b[1;31mTypeError\u001b[0m: unsupported operand type(s) for /: 'str' and 'int'"
     ]
    }
   ],
   "source": [
    "'3' / 4"
   ]
  },
  {
   "cell_type": "code",
   "execution_count": 5,
   "metadata": {},
   "outputs": [
    {
     "ename": "SyntaxError",
     "evalue": "unexpected EOF while parsing (Temp/ipykernel_16288/911138559.py, line 1)",
     "output_type": "error",
     "traceback": [
      "\u001b[1;36m  File \u001b[1;32m\"C:\\Users\\Rodrigo\\AppData\\Local\\Temp/ipykernel_16288/911138559.py\"\u001b[1;36m, line \u001b[1;32m1\u001b[0m\n\u001b[1;33m    len([1,2,3]\u001b[0m\n\u001b[1;37m               ^\u001b[0m\n\u001b[1;31mSyntaxError\u001b[0m\u001b[1;31m:\u001b[0m unexpected EOF while parsing\n"
     ]
    }
   ],
   "source": [
    "len([1,2,3]"
   ]
  },
  {
   "cell_type": "markdown",
   "metadata": {},
   "source": [
    "### Manejo de excepciones\n",
    "\n",
    "Algunas de estas excepciones pueden terminar el programa de manera inesperada. Sin embargo, si son manejadas adecuadamente, se puede indicar al usuario que algo está mal, o que el programa continúe su ejecución. Una forma de hacer esto es utilizar la sentencia `try-except`: "
   ]
  },
  {
   "cell_type": "code",
   "execution_count": 16,
   "metadata": {},
   "outputs": [
    {
     "name": "stdout",
     "output_type": "stream",
     "text": [
      "Bug in user input.\n"
     ]
    }
   ],
   "source": [
    "try:\n",
    "    a = int(input(\"Tell me one number:\"))\n",
    "    b = int(input(\"Tell me another number:\"))\n",
    "    print(a/b)\n",
    "except ZeroDivisionError:\n",
    "    print(\"Warning: b cannot be 0. Assigned b = 1 in division.\")\n",
    "    print(a/1)\n",
    "except:\n",
    "    print(\"Bug in user input.\")"
   ]
  },
  {
   "cell_type": "code",
   "execution_count": 18,
   "metadata": {},
   "outputs": [
    {
     "name": "stdout",
     "output_type": "stream",
     "text": [
      "Could not convert to a number.\n"
     ]
    }
   ],
   "source": [
    "try:\n",
    "    a = int(input(\"Tell me one number: \"))\n",
    "    b = int(input(\"Tell me another number: \"))\n",
    "    print(\"a/b = \", a/b)\n",
    "    print(\"a+b = \", a+b)\n",
    "except ValueError:\n",
    "    print(\"Could not convert to a number.\")\n",
    "except ZeroDivisionError:\n",
    "    print(\"Can't divide by zero\")\n",
    "except:\n",
    "    print(\"Something went very wrong.\")"
   ]
  },
  {
   "cell_type": "code",
   "execution_count": 7,
   "metadata": {},
   "outputs": [
    {
     "name": "stdout",
     "output_type": "stream",
     "text": [
      "a/b =  2.0\n",
      "a+b =  3\n",
      "Yay! No exceptions\n",
      "Bye!\n"
     ]
    }
   ],
   "source": [
    "try:\n",
    "    a = int(input(\"Tell me one number: \"))\n",
    "    b = int(input(\"Tell me another number: \"))\n",
    "    print(\"a/b = \", a/b)\n",
    "    print(\"a+b = \", a+b)\n",
    "except ValueError:\n",
    "    print(\"Could not convert to a number.\")\n",
    "except ZeroDivisionError:\n",
    "    print(\"Can't divide by zero\")\n",
    "except:\n",
    "    print(\"Something went very wrong.\")\n",
    "else:\n",
    "    print(\"Yay! No exceptions\")\n",
    "finally:\n",
    "    print(\"Bye!\")"
   ]
  },
  {
   "cell_type": "markdown",
   "metadata": {},
   "source": [
    "### ¿Qué hacer con las excepciones? "
   ]
  },
  {
   "cell_type": "code",
   "execution_count": 30,
   "metadata": {},
   "outputs": [
    {
     "ename": "Exception",
     "evalue": "Este acumulador se desconotroló",
     "output_type": "error",
     "traceback": [
      "\u001b[1;31m---------------------------------------------------------------------------\u001b[0m",
      "\u001b[1;31mException\u001b[0m                                 Traceback (most recent call last)",
      "\u001b[1;32m~\\AppData\\Local\\Temp/ipykernel_22856/3093174894.py\u001b[0m in \u001b[0;36m<module>\u001b[1;34m\u001b[0m\n\u001b[0;32m     10\u001b[0m     \u001b[1;32mreturn\u001b[0m \u001b[0maccum\u001b[0m\u001b[1;33m\u001b[0m\u001b[1;33m\u001b[0m\u001b[0m\n\u001b[0;32m     11\u001b[0m \u001b[1;33m\u001b[0m\u001b[0m\n\u001b[1;32m---> 12\u001b[1;33m \u001b[0mrandom_accum\u001b[0m\u001b[1;33m(\u001b[0m\u001b[1;33m)\u001b[0m\u001b[1;33m\u001b[0m\u001b[1;33m\u001b[0m\u001b[0m\n\u001b[0m",
      "\u001b[1;32m~\\AppData\\Local\\Temp/ipykernel_22856/3093174894.py\u001b[0m in \u001b[0;36mrandom_accum\u001b[1;34m(s)\u001b[0m\n\u001b[0;32m      7\u001b[0m         \u001b[0maccum\u001b[0m \u001b[1;33m+=\u001b[0m \u001b[0mt\u001b[0m\u001b[1;33m\u001b[0m\u001b[1;33m\u001b[0m\u001b[0m\n\u001b[0;32m      8\u001b[0m         \u001b[1;32mif\u001b[0m \u001b[0maccum\u001b[0m \u001b[1;33m>\u001b[0m \u001b[1;36m10\u001b[0m\u001b[1;33m:\u001b[0m\u001b[1;33m\u001b[0m\u001b[1;33m\u001b[0m\u001b[0m\n\u001b[1;32m----> 9\u001b[1;33m             \u001b[1;32mraise\u001b[0m \u001b[0mException\u001b[0m\u001b[1;33m(\u001b[0m\u001b[1;34m\"Este acumulador se desconotroló\"\u001b[0m\u001b[1;33m)\u001b[0m\u001b[1;33m\u001b[0m\u001b[1;33m\u001b[0m\u001b[0m\n\u001b[0m\u001b[0;32m     10\u001b[0m     \u001b[1;32mreturn\u001b[0m \u001b[0maccum\u001b[0m\u001b[1;33m\u001b[0m\u001b[1;33m\u001b[0m\u001b[0m\n\u001b[0;32m     11\u001b[0m \u001b[1;33m\u001b[0m\u001b[0m\n",
      "\u001b[1;31mException\u001b[0m: Este acumulador se desconotroló"
     ]
    }
   ],
   "source": [
    "import random \n",
    "\n",
    "def random_accum(s = 20):\n",
    "    accum = 0\n",
    "    for _ in range(s): \n",
    "        t = random.random()\n",
    "        accum += t\n",
    "        if accum > 10: \n",
    "            raise Exception(\"Este acumulador se desconotroló\")\n",
    "    return accum\n",
    "\n",
    "random_accum()"
   ]
  },
  {
   "cell_type": "markdown",
   "metadata": {},
   "source": [
    "### Otros ejemplos\n",
    "\n",
    "- En este ejemplo, inputamos un valor en caso de una excepción. Dependiendo de la aplicación, es una aproximación válida para manejar las excepciones y continuar con la ejecución del programa."
   ]
  },
  {
   "cell_type": "code",
   "execution_count": 31,
   "metadata": {},
   "outputs": [],
   "source": [
    "def get_ratios(L1, L2):\n",
    "    \"\"\" \n",
    "    Assumes: L1, L2 lists of equal length of numbers\n",
    "    Returns: a list containing L1[i]/L2[i] \n",
    "    \"\"\"\n",
    "    ratios = []\n",
    "    for index in range(len(L1)):\n",
    "        try:\n",
    "            ratios.append(L1[index]/L2[index])\n",
    "        except ZeroDivisionError:\n",
    "            print(\"Warning: division by zero. Assigned nan.\")\n",
    "            ratios.append(float('nan')) #nan = not a number\n",
    "        except:\n",
    "            raise ValueError('called with bad arguments')\n",
    "    return ratios"
   ]
  },
  {
   "cell_type": "code",
   "execution_count": 32,
   "metadata": {},
   "outputs": [
    {
     "name": "stdout",
     "output_type": "stream",
     "text": [
      "Warning: division by zero. Assigned nan.\n"
     ]
    },
    {
     "data": {
      "text/plain": [
       "[0.5, 0.6666666666666666, nan]"
      ]
     },
     "execution_count": 32,
     "metadata": {},
     "output_type": "execute_result"
    }
   ],
   "source": [
    "get_ratios([1,2,3], [2,3,0])"
   ]
  },
  {
   "cell_type": "markdown",
   "metadata": {},
   "source": [
    "Esta también es la aproximación de algunas librerías de uso común."
   ]
  },
  {
   "cell_type": "code",
   "execution_count": 36,
   "metadata": {},
   "outputs": [
    {
     "name": "stderr",
     "output_type": "stream",
     "text": [
      "C:\\Users\\Rodrigo\\AppData\\Local\\Temp/ipykernel_22856/179031708.py:4: RuntimeWarning: divide by zero encountered in log\n",
      "  np.log(x)\n"
     ]
    },
    {
     "data": {
      "text/plain": [
       "array([      -inf, 0.        , 0.69314718, 1.09861229, 1.38629436,\n",
       "       1.60943791, 1.79175947, 1.94591015, 2.07944154, 2.19722458])"
      ]
     },
     "execution_count": 36,
     "metadata": {},
     "output_type": "execute_result"
    }
   ],
   "source": [
    "import numpy as np\n",
    "\n",
    "x = np.arange(10)\n",
    "np.log(x)"
   ]
  },
  {
   "cell_type": "markdown",
   "metadata": {},
   "source": [
    "### Assert\n",
    "\n",
    "- Otro ejemplo de programación defensiva.\n",
    "- Podemos utilizar `assert` si queremos estar **seguros** que se verifican supuestos en el cómputo."
   ]
  },
  {
   "cell_type": "code",
   "execution_count": 40,
   "metadata": {},
   "outputs": [
    {
     "data": {
      "text/plain": [
       "2.0"
      ]
     },
     "execution_count": 40,
     "metadata": {},
     "output_type": "execute_result"
    }
   ],
   "source": [
    "def avg(grades):\n",
    "    \"\"\" grades : grades list \"\"\"\n",
    "    assert len(grades) != 0, 'no grades data'\n",
    "    return sum(grades)/len(grades)\n",
    "\n",
    "avg([1,2,3])"
   ]
  },
  {
   "cell_type": "code",
   "execution_count": 42,
   "metadata": {},
   "outputs": [
    {
     "data": {
      "text/plain": [
       "1.0"
      ]
     },
     "execution_count": 42,
     "metadata": {},
     "output_type": "execute_result"
    }
   ],
   "source": [
    "avg([1])"
   ]
  },
  {
   "cell_type": "markdown",
   "metadata": {},
   "source": [
    "***\n",
    "## Pruebas"
   ]
  },
  {
   "cell_type": "markdown",
   "metadata": {},
   "source": [
    "### Pruebas de caja negra"
   ]
  },
  {
   "cell_type": "code",
   "execution_count": 26,
   "metadata": {},
   "outputs": [],
   "source": [
    "def sqrt(x, eps, show_status = False):\n",
    "    ''' Assumes x, eps floats, x >= 0, eps > 0\n",
    "    Returns res such that x-eps <= res*res <= x+eps '''\n",
    "    if x == 0: return 0\n",
    "    res = x/2\n",
    "    for i in range(100):\n",
    "        if show_status: print(f\"iter: {i}\\t res= {res}\")\n",
    "        x_prev = res \n",
    "        res = res - (res**2 - x)/(2*res)\n",
    "        if abs(res - x_prev) < eps: \n",
    "            break \n",
    "    \n",
    "    return res\n"
   ]
  },
  {
   "cell_type": "code",
   "execution_count": 28,
   "metadata": {},
   "outputs": [
    {
     "name": "stdout",
     "output_type": "stream",
     "text": [
      "iter: 0\t res= 1.0\n",
      "iter: 1\t res= 1.5\n",
      "iter: 2\t res= 1.4166666666666667\n"
     ]
    },
    {
     "data": {
      "text/plain": [
       "1.4142156862745099"
      ]
     },
     "execution_count": 28,
     "metadata": {},
     "output_type": "execute_result"
    }
   ],
   "source": [
    "sqrt(2, 0.01, show_status=True)"
   ]
  },
  {
   "cell_type": "markdown",
   "metadata": {},
   "source": [
    "A continuación vemos un ejemplo utilizando el paquete `ipytest`:"
   ]
  },
  {
   "cell_type": "code",
   "execution_count": 7,
   "metadata": {},
   "outputs": [],
   "source": [
    "import ipytest\n",
    "ipytest.autoconfig()"
   ]
  },
  {
   "cell_type": "code",
   "execution_count": 31,
   "metadata": {},
   "outputs": [
    {
     "name": "stdout",
     "output_type": "stream",
     "text": [
      "\u001b[32m.\u001b[0m\u001b[32m.\u001b[0m\u001b[32m                                                                                           [100%]\u001b[0m\n",
      "\u001b[32m\u001b[32m\u001b[1m2 passed\u001b[0m\u001b[32m in 0.01s\u001b[0m\u001b[0m\n"
     ]
    }
   ],
   "source": [
    "%%ipytest \n",
    "\n",
    "import math \n",
    "\n",
    "x_vals_easy = [0, 25, 0.05, 2, 2]\n",
    "eps_vals_easy = [0.0001, 0.0001, 0.0001, 0.0001]\n",
    "\n",
    "bigex = 2.0**64.0\n",
    "smallex = 1.0/2.0**64.0\n",
    "x_vals_hard = [smallex, bigex, smallex, bigex]\n",
    "eps_vals_hard = [smallex, smallex, smallex, bigex, bigex]\n",
    "\n",
    "def test_sqrt_easy():\n",
    "    for x, eps in zip(x_vals_easy, eps_vals_easy):\n",
    "        assert abs(sqrt(x, eps) - math.sqrt(x)) < 1e-8\n",
    "\n",
    "def test_sqrt_hard():\n",
    "    for x, eps in zip(x_vals_hard, eps_vals_hard):\n",
    "        assert abs(sqrt(x, eps) - math.sqrt(x)) < 1e-16"
   ]
  },
  {
   "cell_type": "code",
   "execution_count": 30,
   "metadata": {},
   "outputs": [],
   "source": [
    "import math\n",
    "\n",
    "def sqrt(x, eps):\n",
    "    ''' Assumes x, eps floats, x >= 0, eps > 0\n",
    "    Returns res such that x-eps <= res*res <= x+eps '''\n",
    "    return math.sqrt(x)"
   ]
  },
  {
   "cell_type": "markdown",
   "metadata": {},
   "source": [
    "Con el paquete `pytest` obtenemos una funcionalidad similar. "
   ]
  },
  {
   "cell_type": "markdown",
   "metadata": {},
   "source": [
    "### Pruebas de caja de cristal"
   ]
  },
  {
   "cell_type": "code",
   "execution_count": 39,
   "metadata": {},
   "outputs": [],
   "source": [
    "def abs(x):\n",
    "    \"\"\" Assumes x is an int\n",
    "    Returns x if x>=0 and -x otherwise \"\"\"\n",
    "    if x < -1:\n",
    "        return -x\n",
    "    else:\n",
    "        return x"
   ]
  },
  {
   "cell_type": "markdown",
   "metadata": {},
   "source": [
    "- Aún si la prueba es completa, podríamos saltarnos una ramificación y crear un *bug*.\n",
    "- ¿Qué pasa con los casos 2 y -2?\n",
    "- ¿Qué pasa con el caso -1?\n",
    "- Se deben probar casos límite. "
   ]
  },
  {
   "cell_type": "code",
   "execution_count": 40,
   "metadata": {},
   "outputs": [
    {
     "name": "stdout",
     "output_type": "stream",
     "text": [
      "\u001b[31mF\u001b[0m\u001b[31m                                                                                            [100%]\u001b[0m\n",
      "============================================ FAILURES =============================================\n",
      "\u001b[31m\u001b[1m____________________________________________ test_abs _____________________________________________\u001b[0m\n",
      "\n",
      "    \u001b[94mdef\u001b[39;49;00m \u001b[92mtest_abs\u001b[39;49;00m():\n",
      "        \u001b[94mfor\u001b[39;49;00m x, val \u001b[95min\u001b[39;49;00m \u001b[96mzip\u001b[39;49;00m(x_vals, abs_vals):\n",
      ">           \u001b[94massert\u001b[39;49;00m \u001b[96mabs\u001b[39;49;00m(x) == val\n",
      "\u001b[1m\u001b[31mE           assert -1 == 1\u001b[0m\n",
      "\u001b[1m\u001b[31mE            +  where -1 = abs(-1)\u001b[0m\n",
      "\n",
      "\u001b[1m\u001b[31mC:\\Users\\RRCP\\AppData\\Local\\Temp/ipykernel_16656/2870345099.py\u001b[0m:8: AssertionError\n",
      "===================================== short test summary info =====================================\n",
      "FAILED tmp0w_c44qq.py::test_abs - assert -1 == 1\n",
      "\u001b[31m\u001b[31m\u001b[1m1 failed\u001b[0m\u001b[31m in 0.03s\u001b[0m\u001b[0m\n"
     ]
    }
   ],
   "source": [
    "%%ipytest \n",
    "\n",
    "import math \n",
    "\n",
    "x_vals = [-2, -1, 0, 1, 1.5, -1.5]\n",
    "abs_vals = [2, 1, 0, 1, 1.5, 1.5]\n",
    "\n",
    "def test_abs():\n",
    "    for x, val in zip(x_vals, abs_vals):\n",
    "        assert abs(x) == val"
   ]
  },
  {
   "cell_type": "markdown",
   "metadata": {},
   "source": [
    "## Depuración"
   ]
  },
  {
   "cell_type": "markdown",
   "metadata": {},
   "source": [
    "### Depuración con `print`"
   ]
  },
  {
   "cell_type": "code",
   "execution_count": 43,
   "metadata": {},
   "outputs": [
    {
     "name": "stdout",
     "output_type": "stream",
     "text": [
      "2\n",
      "x:  2\n",
      "res =  1.0\n",
      "iter: 0\t res= 1.5, x_prev=1.0\n",
      "iter: 1\t res= 1.4166666666666667, x_prev=1.5\n"
     ]
    },
    {
     "data": {
      "text/plain": [
       "1.4166666666666667"
      ]
     },
     "execution_count": 43,
     "metadata": {},
     "output_type": "execute_result"
    }
   ],
   "source": [
    "def sqrt(x, eps, show_status = True):\n",
    "    ''' Assumes x, eps floats, x >= 0, eps > 0\n",
    "    Returns res such that x-eps <= res*res <= x+eps '''\n",
    "    print(x)\n",
    "    if x == 0: return 0\n",
    "    print(\"x: \", x)\n",
    "    res = x/2\n",
    "    print(\"res = \", res) \n",
    "    for i in range(100):\n",
    "        x_prev = res \n",
    "        res = res - (res**2 - x)/(2*res)\n",
    "        if show_status: \n",
    "            print(f\"iter: {i}\\t res= {res}, x_prev={x_prev}\")\n",
    "        if abs(res - x_prev) < eps: \n",
    "            break \n",
    "    \n",
    "    return res\n",
    "\n",
    "sqrt(2, 1e-4)"
   ]
  },
  {
   "cell_type": "code",
   "execution_count": 12,
   "metadata": {},
   "outputs": [],
   "source": [
    "#Ejemplo de cómo desarrollar un problema\n",
    "#funcion que devuelve una lista de numeros del \n",
    "#archivo\n",
    "def list_numbers(filename):\n",
    "    with open(\"data1.txt\") as f:\n",
    "        rawdata = f.read()\n",
    "    # print(rawdata, type(rawdata))\n",
    "\n",
    "    # separar los numeros del archivo\n",
    "    valores = rawdata.split()\n",
    "    #print(valores, type(valores))\n",
    "\n",
    "    # convertir el primer elemento\n",
    "    # num = float(valores[0])\n",
    "    # print(num, type(num))\n",
    "\n",
    "    #convertir todos los números\n",
    "    l=[]\n",
    "    for s in valores:\n",
    "        num = float(s)\n",
    "        #print(num, type(num))\n",
    "        l.append(num)\n",
    "    #print(l)\n",
    "    return l\n",
    "l=list_numbers(\"data1.txt\")"
   ]
  },
  {
   "cell_type": "markdown",
   "metadata": {},
   "source": [
    "### Depuración con vscode"
   ]
  },
  {
   "cell_type": "code",
   "execution_count": 51,
   "metadata": {},
   "outputs": [],
   "source": [
    "import numpy as np\n",
    "\n",
    "def complicated_op(a: int, b: int): \n",
    "    if a <= 0: return np.random.rand(2).sum()\n",
    "    z = a + b \n",
    "    w = z ** a\n",
    "    m = b - a \n",
    "    d = np.random.rand(a).sum()\n",
    "    g = (z*w) - m/d\n",
    "    return g"
   ]
  },
  {
   "cell_type": "markdown",
   "metadata": {},
   "source": [
    "Seleccionamos la opción de depurar celda (*Debug cell*)"
   ]
  },
  {
   "cell_type": "code",
   "execution_count": 72,
   "metadata": {},
   "outputs": [
    {
     "data": {
      "text/plain": [
       "213.3019101684176"
      ]
     },
     "execution_count": 72,
     "metadata": {},
     "output_type": "execute_result"
    }
   ],
   "source": [
    "complicated_op(2, 4)"
   ]
  },
  {
   "cell_type": "markdown",
   "metadata": {},
   "source": [
    "Veamos otro ejemplo: \n",
    "\n",
    "- ¿Cómo hacemos para observar los valores de la iteración 250? "
   ]
  },
  {
   "cell_type": "code",
   "execution_count": 75,
   "metadata": {},
   "outputs": [],
   "source": [
    "def logistic(r, x0 = 0.25, n = 500):\n",
    "    x = np.zeros(n+1)\n",
    "    x[0] = x0\n",
    "    for i in range(1,n+1):\n",
    "        x[i] = r*x[i-1]*(1-x[i-1])\n",
    "    return x"
   ]
  },
  {
   "cell_type": "code",
   "execution_count": 117,
   "metadata": {},
   "outputs": [],
   "source": [
    "pop = logistic(4)"
   ]
  },
  {
   "cell_type": "code",
   "execution_count": 131,
   "metadata": {},
   "outputs": [
    {
     "data": {
      "text/plain": [
       "array([[0.        , 0.        , 0.        , ..., 0.        , 0.        ,\n",
       "        0.        ],\n",
       "       [0.        , 0.        , 0.        , ..., 0.        , 0.        ,\n",
       "        0.        ],\n",
       "       [0.        , 0.        , 0.        , ..., 0.        , 0.        ,\n",
       "        0.        ],\n",
       "       ...,\n",
       "       [0.9753616 , 0.09605332, 0.34704784, ..., 0.32362763, 0.87491448,\n",
       "        0.43742823],\n",
       "       [0.72408279, 0.79874804, 0.64267693, ..., 0.56681623, 0.9816513 ,\n",
       "        0.07201209],\n",
       "       [0.7603282 , 0.72873468, 0.79052411, ..., 0.57470788, 0.97743051,\n",
       "        0.08821837]])"
      ]
     },
     "execution_count": 131,
     "metadata": {},
     "output_type": "execute_result"
    }
   ],
   "source": [
    "r_space = np.arange(0.1, 4, 0.001)\n",
    "l = r_space.shape[0]\n",
    "popmap = np.zeros((l, 50))\n",
    "for i in range(l):\n",
    "    r = r_space[i]\n",
    "    pop = logistic(r)\n",
    "    popmap[i, :] = pop[-50:]\n",
    "\n",
    "popmap"
   ]
  },
  {
   "cell_type": "code",
   "execution_count": 204,
   "metadata": {},
   "outputs": [
    {
     "data": {
      "text/plain": [
       "<matplotlib.collections.PathCollection at 0x20f5f9cdb50>"
      ]
     },
     "execution_count": 204,
     "metadata": {},
     "output_type": "execute_result"
    },
    {
     "data": {
      "image/png": "[encoded data removed]",
      "text/plain": [
       "<Figure size 576x432 with 1 Axes>"
      ]
     },
     "metadata": {
      "needs_background": "light"
     },
     "output_type": "display_data"
    }
   ],
   "source": [
    "import matplotlib.pyplot as plt\n",
    "\n",
    "plt.figure(figsize=(8, 6))\n",
    "plt.scatter(np.repeat(r_space[:, None], 50, axis=1), popmap, \n",
    "    s = 0.005, c = \"black\", alpha=0.5)"
   ]
  },
  {
   "cell_type": "code",
   "execution_count": null,
   "metadata": {},
   "outputs": [],
   "source": []
  }
 ],
 "metadata": {
  "interpreter": {
   "hash": "f13a15f6d8e6dbf190362d83f8f24b25050c3603e79608f15fd979d60be4a590"
  },
  "kernelspec": {
   "display_name": "Python 3.9.7 64-bit ('bg': conda)",
   "language": "python",
   "name": "python3"
  },
  "language_info": {
   "codemirror_mode": {
    "name": "ipython",
    "version": 3
   },
   "file_extension": ".py",
   "mimetype": "text/x-python",
   "name": "python",
   "nbconvert_exporter": "python",
   "pygments_lexer": "ipython3",
   "version": "3.8.5"
  },
  "orig_nbformat": 4
 },
 "nbformat": 4,
 "nbformat_minor": 2
}
