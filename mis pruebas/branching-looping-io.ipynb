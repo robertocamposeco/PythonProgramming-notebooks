{
 "cells": [
  {
   "cell_type": "markdown",
   "metadata": {},
   "source": [
    "# Control de flujo e iteraciones"
   ]
  },
  {
   "cell_type": "markdown",
   "metadata": {},
   "source": [
    "## Entrada y salida del usuario"
   ]
  },
  {
   "cell_type": "code",
   "execution_count": 1,
   "metadata": {},
   "outputs": [],
   "source": [
    "hi = \"Hola amigos del PES\""
   ]
  },
  {
   "cell_type": "code",
   "execution_count": 2,
   "metadata": {},
   "outputs": [
    {
     "data": {
      "text/plain": [
       "'Hola mundo grut'"
      ]
     },
     "execution_count": 2,
     "metadata": {},
     "output_type": "execute_result"
    }
   ],
   "source": [
    "name = input(\"Ingresa tu nombre: \")\n",
    "hello = \"Hola mundo\"\n",
    "saludo = hello + \" \" + name\n",
    "saludo"
   ]
  },
  {
   "cell_type": "code",
   "execution_count": 1,
   "metadata": {},
   "outputs": [
    {
     "data": {
      "text/plain": [
       "2"
      ]
     },
     "execution_count": 1,
     "metadata": {},
     "output_type": "execute_result"
    }
   ],
   "source": [
    "edad = int(input(\"Ingresa tu edad: \"))\n",
    "edad"
   ]
  },
  {
   "cell_type": "markdown",
   "metadata": {},
   "source": [
    "## Salida en consola"
   ]
  },
  {
   "cell_type": "code",
   "execution_count": 3,
   "metadata": {},
   "outputs": [
    {
     "name": "stdout",
     "output_type": "stream",
     "text": [
      "Hola mundo grut\n"
     ]
    }
   ],
   "source": [
    "print(saludo)"
   ]
  },
  {
   "cell_type": "code",
   "execution_count": 4,
   "metadata": {},
   "outputs": [
    {
     "name": "stdout",
     "output_type": "stream",
     "text": [
      "Hola mundo  ->  grut\n"
     ]
    }
   ],
   "source": [
    "print(hello, \" -> \", name)"
   ]
  },
  {
   "cell_type": "markdown",
   "metadata": {},
   "source": [
    "Argumentos `sep` y `end`"
   ]
  },
  {
   "cell_type": "code",
   "execution_count": 5,
   "metadata": {},
   "outputs": [
    {
     "name": "stdout",
     "output_type": "stream",
     "text": [
      "Hola mundo,grut\n"
     ]
    }
   ],
   "source": [
    "print(hello, name, sep = \",\")"
   ]
  },
  {
   "cell_type": "code",
   "execution_count": 6,
   "metadata": {},
   "outputs": [
    {
     "name": "stdout",
     "output_type": "stream",
     "text": [
      "Hola mundo grut :)"
     ]
    }
   ],
   "source": [
    "print(hello, name, end = \" :)\")"
   ]
  },
  {
   "cell_type": "markdown",
   "metadata": {},
   "source": [
    "Combinar variables en el texto (interpolación)"
   ]
  },
  {
   "cell_type": "markdown",
   "metadata": {},
   "source": [
    "• %d para números enteros.\n",
    "\n",
    "• %s para cadenas de texto.\n",
    "\n",
    "• %f para números de punto flotante."
   ]
  },
  {
   "cell_type": "code",
   "execution_count": 10,
   "metadata": {},
   "outputs": [
    {
     "name": "stdout",
     "output_type": "stream",
     "text": [
      "Hola Rodrigo, Pi=3.142\n"
     ]
    }
   ],
   "source": [
    "pi=3.1415\n",
    "print(\"Hola %s, Pi=%0.3f\" % ('Rodrigo', pi))"
   ]
  },
  {
   "cell_type": "markdown",
   "metadata": {},
   "source": [
    "También es posible utilizando diccionarios: "
   ]
  },
  {
   "cell_type": "code",
   "execution_count": 11,
   "metadata": {},
   "outputs": [
    {
     "name": "stdout",
     "output_type": "stream",
     "text": [
      "Pi = 3.1415\n"
     ]
    }
   ],
   "source": [
    "print(\"Pi = %(pi)s\" % {'pi' : pi})"
   ]
  },
  {
   "cell_type": "markdown",
   "metadata": {},
   "source": [
    "El método más reciente es el de *f-strings*:"
   ]
  },
  {
   "cell_type": "code",
   "execution_count": 12,
   "metadata": {},
   "outputs": [
    {
     "name": "stdout",
     "output_type": "stream",
     "text": [
      "Mi nombre es grut y tu edad en 2 años será 4\n"
     ]
    }
   ],
   "source": [
    "print(f\"Mi nombre es {name} y tu edad en 2 años será {edad+2}\")"
   ]
  },
  {
   "cell_type": "markdown",
   "metadata": {},
   "source": [
    "## Condicionales\n",
    "\n",
    "```python\n",
    "if <condition>:\n",
    "    <expression>\n",
    "    <expression>\n",
    "    ...\n",
    "```"
   ]
  },
  {
   "cell_type": "code",
   "execution_count": 20,
   "metadata": {},
   "outputs": [
    {
     "name": "stdout",
     "output_type": "stream",
     "text": [
      "Condición es verdadera\n",
      "Y se ejecuta este bloque. Note la indentación\n"
     ]
    }
   ],
   "source": [
    "if True: \n",
    "    print(\"Condición es verdadera\")\n",
    "    print(\"Y se ejecuta este bloque. Note la indentación\")"
   ]
  },
  {
   "cell_type": "code",
   "execution_count": 19,
   "metadata": {},
   "outputs": [
    {
     "name": "stdout",
     "output_type": "stream",
     "text": [
      "Condición es verdadera\n"
     ]
    }
   ],
   "source": [
    "if 1: print(\"Condición es verdadera\")"
   ]
  },
  {
   "cell_type": "markdown",
   "metadata": {},
   "source": [
    "Bloque `else`\n",
    "\n",
    "```python\n",
    "if <condition>:\n",
    "    <expression>\n",
    "    ...\n",
    "else:\n",
    "    <expression>\n",
    "    ...\n",
    "```"
   ]
  },
  {
   "cell_type": "code",
   "execution_count": 21,
   "metadata": {},
   "outputs": [
    {
     "name": "stdout",
     "output_type": "stream",
     "text": [
      "Se ejecuta el bloque else\n"
     ]
    }
   ],
   "source": [
    "if False: \n",
    "    pass\n",
    "else:\n",
    "    print(\"Se ejecuta el bloque else\") "
   ]
  },
  {
   "cell_type": "markdown",
   "metadata": {},
   "source": [
    "Cláusula `elif` para condiciones adicionales: \n",
    "\n",
    "```python\n",
    "if <condition>:\n",
    "    <expression>\n",
    "    ...\n",
    "elif <condition>:\n",
    "    <expression>\n",
    "    ...\n",
    "else:\n",
    "    <expression>\n",
    "    ...\n",
    "```"
   ]
  },
  {
   "cell_type": "code",
   "execution_count": 23,
   "metadata": {},
   "outputs": [
    {
     "name": "stdout",
     "output_type": "stream",
     "text": [
      "x and y are equal\n",
      "therefore, x / y is 1.0\n",
      "thanks!\n"
     ]
    }
   ],
   "source": [
    "x = float(input(\"Enter a number for x: \"))\n",
    "y = float(input(\"Enter a number for y: \"))\n",
    "if x == y:\n",
    "   print(\"x and y are equal\")\n",
    "   if y != 0: \n",
    "      print(\"therefore, x / y is\", x/y)\n",
    "elif x < y:\n",
    "   print(\"x is smaller\")\n",
    "elif x > y:\n",
    "   print(\"y is smaller\")\n",
    "\n",
    "print(\"thanks!\")"
   ]
  },
  {
   "cell_type": "markdown",
   "metadata": {},
   "source": [
    "## Ciclo while\n",
    "\n",
    "Utilizado si queremos repetir una expresión o bloque hasta que se cumpla una condición.\n",
    "\n",
    "```python\n",
    "while <condition>:\n",
    "    <expression>\n",
    "    <expression>\n",
    "    ...\n",
    "```\n",
    "\n"
   ]
  },
  {
   "cell_type": "code",
   "execution_count": 25,
   "metadata": {},
   "outputs": [
    {
     "name": "stdout",
     "output_type": "stream",
     "text": [
      "0\n",
      "1\n",
      "2\n",
      "3\n",
      "4\n"
     ]
    }
   ],
   "source": [
    "n = 0\n",
    "while n < 5:\n",
    "    print(n)\n",
    "    n = n + 1"
   ]
  },
  {
   "cell_type": "code",
   "execution_count": 13,
   "metadata": {},
   "outputs": [
    {
     "name": "stdout",
     "output_type": "stream",
     "text": [
      "Excelente, ahora eres programador@.\n"
     ]
    }
   ],
   "source": [
    "ans = input(\"Programar es divertido. \")\n",
    "while ans != \"Es genial\":\n",
    "    ans = input(\"Puedes pensarlo nuevamente?: \")\n",
    "print(\"Excelente, ahora eres programador@.\")"
   ]
  },
  {
   "cell_type": "markdown",
   "metadata": {},
   "source": [
    "Este es un ciclo infinito. ¿Cómo le incorporamos una condición de finalización?"
   ]
  },
  {
   "cell_type": "code",
   "execution_count": null,
   "metadata": {},
   "outputs": [],
   "source": [
    "import time\n",
    "\n",
    "#while True: \n",
    "#    print(\"¡Eres genial!\")\n",
    "#    time.sleep(0.9)"
   ]
  },
  {
   "cell_type": "markdown",
   "metadata": {},
   "source": [
    "## Ciclo for\n",
    "\n",
    "```python\n",
    "for <variable> in range(<some_num>):\n",
    "    <expression>\n",
    "    ...\n",
    "\n",
    "for <variable> in <collection>:\n",
    "    <expression>\n",
    "    ...\n",
    "```"
   ]
  },
  {
   "cell_type": "code",
   "execution_count": 17,
   "metadata": {},
   "outputs": [
    {
     "name": "stdout",
     "output_type": "stream",
     "text": [
      "0\n",
      "1\n",
      "2\n",
      "3\n",
      "4\n"
     ]
    }
   ],
   "source": [
    "n = 0\n",
    "while n < 5:\n",
    "    print(n)\n",
    "    n = n + 1"
   ]
  },
  {
   "cell_type": "code",
   "execution_count": 18,
   "metadata": {},
   "outputs": [
    {
     "name": "stdout",
     "output_type": "stream",
     "text": [
      "0\n",
      "1\n",
      "2\n",
      "3\n",
      "4\n"
     ]
    }
   ],
   "source": [
    "for n in range(5): \n",
    "    print(n)"
   ]
  },
  {
   "cell_type": "markdown",
   "metadata": {},
   "source": [
    "- `range` posee argumentos `(start, stop [, step])`:"
   ]
  },
  {
   "cell_type": "code",
   "execution_count": 19,
   "metadata": {},
   "outputs": [
    {
     "name": "stdout",
     "output_type": "stream",
     "text": [
      "5\n",
      "7\n",
      "9\n"
     ]
    }
   ],
   "source": [
    "for n in range(5, 10, 2): \n",
    "    print(n)"
   ]
  },
  {
   "cell_type": "code",
   "execution_count": 20,
   "metadata": {},
   "outputs": [
    {
     "name": "stdout",
     "output_type": "stream",
     "text": [
      "7\n",
      "15\n",
      "24\n"
     ]
    }
   ],
   "source": [
    "# Sumamos números de 7 a 9\n",
    "mysum = 0\n",
    "for i in range(7, 10):\n",
    "    mysum += i\n",
    "    print(mysum)"
   ]
  },
  {
   "cell_type": "code",
   "execution_count": 21,
   "metadata": {},
   "outputs": [
    {
     "name": "stdout",
     "output_type": "stream",
     "text": [
      "5\n",
      "12\n",
      "21\n"
     ]
    }
   ],
   "source": [
    "# Sumamos números impares\n",
    "mysum = 0\n",
    "for i in range(5, 11, 2):\n",
    "    mysum += i\n",
    "    print(mysum)"
   ]
  },
  {
   "cell_type": "markdown",
   "metadata": {},
   "source": [
    "## Break\n",
    "\n",
    "- Fuerza la salida del ciclo actual.\n",
    "- Instrucciones posteriores son ignoradas. \n",
    "- Solamente actúa en el **ciclo más interno**.\n",
    "\n",
    "```python\n",
    "while <condition_1>:\n",
    "    while <condition_2>:\n",
    "        <expression_A>\n",
    "        break\n",
    "        <expression_B>\n",
    "    <expression_C>\n",
    "```"
   ]
  },
  {
   "cell_type": "code",
   "execution_count": 22,
   "metadata": {},
   "outputs": [
    {
     "name": "stdout",
     "output_type": "stream",
     "text": [
      "5\n",
      "Llegué\n",
      "5\n"
     ]
    }
   ],
   "source": [
    "mysum= 0\n",
    "for i in range(5, 11):\n",
    "    mysum += i\n",
    "    print(mysum)\n",
    "    if mysum == 5: \n",
    "        print(\"Llegué\")\n",
    "        break\n",
    "        mysum += 1 \n",
    "print(mysum)"
   ]
  },
  {
   "cell_type": "markdown",
   "metadata": {},
   "source": [
    "## Ciclos `for` vs. `while`"
   ]
  },
  {
   "cell_type": "markdown",
   "metadata": {},
   "source": [
    "- `for`: \n",
    "  - Se conoce el número de iteraciones. \n",
    "  - Utiliza un contador o colección. \n",
    "  - Se puede reescribir como un ciclo `while`. \n",
    "\n",
    "- `while`: \n",
    "  - Número de iteraciones no determinado o acotado. \n",
    "  - Puede utilizar contador, pero debe inicializarse y actualizarlo. \n",
    "  - Condición más compleja de parada, que podría no poder reescribirse como un ciclo `for`."
   ]
  },
  {
   "cell_type": "markdown",
   "metadata": {},
   "source": [
    "## Ejercicios"
   ]
  },
  {
   "cell_type": "markdown",
   "metadata": {},
   "source": [
    "Reemplaza el comentario para utilizar un ciclo `while`"
   ]
  },
  {
   "cell_type": "code",
   "execution_count": 24,
   "metadata": {},
   "outputs": [
    {
     "name": "stdout",
     "output_type": "stream",
     "text": [
      "XXXXX\n"
     ]
    }
   ],
   "source": [
    "numXs = int(input('How many times should I print the letter X? '))\n",
    "toPrint = ''\n",
    "#concatenate X to toPrint numXs times\n",
    "numXs=numXs+1\n",
    "i=0\n",
    "while i<numXs:\n",
    "    if i==numXs-1:\n",
    "        toPrint=i*str(\"X\")\n",
    "        break\n",
    "    i=i+1\n",
    "print(toPrint)"
   ]
  },
  {
   "cell_type": "markdown",
   "metadata": {},
   "source": [
    "Escriba un programa en Python para evaluar lo siguiente de forma iterativa. Continúe la iteración hasta que el cambio debido al último elemento como una fracción del último valor sea menor que $10^{−6}$: $$x = \\frac{1}{1!} + \\frac{2}{2!}+ \\frac{3}{3!}+ \\frac{4}{4!} + \\ldots$$"
   ]
  },
  {
   "cell_type": "code",
   "execution_count": null,
   "metadata": {},
   "outputs": [],
   "source": []
  },
  {
   "cell_type": "markdown",
   "metadata": {},
   "source": [
    "Escriba un programa que le pida al usuario que ingrese 5 enteros y luego imprima el número impar más grande que se ingresó. Si no se ingresó un número impar, debería imprimir un mensaje a tal efecto."
   ]
  },
  {
   "cell_type": "code",
   "execution_count": 47,
   "metadata": {},
   "outputs": [
    {
     "name": "stdout",
     "output_type": "stream",
     "text": [
      "13\n",
      "[1, 3, 5, 7, 13]\n"
     ]
    }
   ],
   "source": [
    "l=list()\n",
    "i=0\n",
    "for i in range(i,5):\n",
    "    a = int(input(\"Ingrese un numero entero: \"))\n",
    "    if a%2==0:\n",
    "        a = input(\"ingrese un numero impar: \")\n",
    "    else:\n",
    "        l.append(a)\n",
    "    \n",
    "print(max(l))\n",
    "print(l)"
   ]
  },
  {
   "cell_type": "markdown",
   "metadata": {},
   "source": [
    "*Más ejercicios en la sección 3.5 de Padmanabhan.*"
   ]
  }
 ],
 "metadata": {
  "interpreter": {
   "hash": "f13a15f6d8e6dbf190362d83f8f24b25050c3603e79608f15fd979d60be4a590"
  },
  "kernelspec": {
   "display_name": "Python 3.9.7 64-bit ('bg': conda)",
   "language": "python",
   "name": "python3"
  },
  "language_info": {
   "codemirror_mode": {
    "name": "ipython",
    "version": 3
   },
   "file_extension": ".py",
   "mimetype": "text/x-python",
   "name": "python",
   "nbconvert_exporter": "python",
   "pygments_lexer": "ipython3",
   "version": "3.8.5"
  },
  "orig_nbformat": 4
 },
 "nbformat": 4,
 "nbformat_minor": 2
}
