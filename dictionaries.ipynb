{
 "cells": [
  {
   "cell_type": "markdown",
   "metadata": {},
   "source": [
    "## Diccionarios\n"
   ]
  },
  {
   "cell_type": "markdown",
   "metadata": {},
   "source": [
    "Supongamos el siguiente esquema para almacenar y consultar la información de algunos estudiantes: "
   ]
  },
  {
   "cell_type": "code",
   "execution_count": 1,
   "metadata": {},
   "outputs": [],
   "source": [
    "names = ['Ana', 'John', 'Denise', 'Katy']\n",
    "grade = ['B', 'A+', 'A', 'A']\n",
    "course = [\"20.001\", \"6.0001\", \"20.002\", \"9.01\"]"
   ]
  },
  {
   "cell_type": "code",
   "execution_count": 3,
   "metadata": {},
   "outputs": [],
   "source": [
    "def get_grade(student, name_list, grade_list, course_list): \n",
    "    i = name_list.index(student)\n",
    "    grade = grade_list[i]\n",
    "    course = course_list[i]\n",
    "    return (course, grade)"
   ]
  },
  {
   "cell_type": "code",
   "execution_count": 4,
   "metadata": {},
   "outputs": [
    {
     "data": {
      "text/plain": [
       "('20.001', 'B')"
      ]
     },
     "execution_count": 4,
     "metadata": {},
     "output_type": "execute_result"
    }
   ],
   "source": [
    "get_grade(\"Ana\", names, grade, course)"
   ]
  },
  {
   "cell_type": "markdown",
   "metadata": {},
   "source": [
    "Los diccionarios proveen una alternativa más limpia."
   ]
  },
  {
   "cell_type": "code",
   "execution_count": 5,
   "metadata": {},
   "outputs": [],
   "source": [
    "grades = {'Ana':'B', 'John':'A+', 'Denise':'A', 'Katy':'A'}\n",
    "course = {'Ana':'20.001', 'John':'6.0001', 'Denise':'20.002', 'Katy':'9.01'}"
   ]
  },
  {
   "cell_type": "code",
   "execution_count": 6,
   "metadata": {},
   "outputs": [
    {
     "data": {
      "text/plain": [
       "('B', '20.001')"
      ]
     },
     "execution_count": 6,
     "metadata": {},
     "output_type": "execute_result"
    }
   ],
   "source": [
    "grades[\"Ana\"], course[\"Ana\"]"
   ]
  },
  {
   "cell_type": "code",
   "execution_count": 16,
   "metadata": {},
   "outputs": [
    {
     "data": {
      "text/plain": [
       "{'Ana': [('20.001', 'B'), ('6.002', 'A+')], 'John': [('6.001', 'A+')]}"
      ]
     },
     "execution_count": 16,
     "metadata": {},
     "output_type": "execute_result"
    }
   ],
   "source": [
    "students={\"Ana\":[(\"20.001\",\"B\"),(\"6.002\",\"A+\")],\"John\":[(\"6.001\",\"A+\")]}\n",
    "students"
   ]
  },
  {
   "cell_type": "code",
   "execution_count": 17,
   "metadata": {},
   "outputs": [
    {
     "data": {
      "text/plain": [
       "[('6.001', 'A+'), ('20.0002', 'C')]"
      ]
     },
     "execution_count": 17,
     "metadata": {},
     "output_type": "execute_result"
    }
   ],
   "source": [
    "#Esto agrega un valor adicional a la lista de John\n",
    "students[\"John\"].append((\"20.0002\",\"C\"))\n",
    "students[\"John\"]"
   ]
  },
  {
   "cell_type": "code",
   "execution_count": 18,
   "metadata": {},
   "outputs": [
    {
     "data": {
      "text/plain": [
       "[('Progra-1', 75), ('20.0002', 'C')]"
      ]
     },
     "execution_count": 18,
     "metadata": {},
     "output_type": "execute_result"
    }
   ],
   "source": [
    "#esto va a cambiar el valor del primer elemento de John\n",
    "students[\"John\"][0]=(\"Progra-1\",75)\n",
    "students[\"John\"]"
   ]
  },
  {
   "cell_type": "code",
   "execution_count": 47,
   "metadata": {},
   "outputs": [],
   "source": [
    "#creando diccionarios adentro de un diccionario\n",
    "students={\"Ana\":{\"20.001\":\"B\",\"6.002\":\"A+\"},\"John\":{\"6.001\":\"A+\"}}"
   ]
  },
  {
   "cell_type": "code",
   "execution_count": 48,
   "metadata": {},
   "outputs": [
    {
     "data": {
      "text/plain": [
       "'A+'"
      ]
     },
     "execution_count": 48,
     "metadata": {},
     "output_type": "execute_result"
    }
   ],
   "source": [
    "#buscando un valor en Ana\n",
    "(students[\"Ana\"])[\"6.002\"]"
   ]
  },
  {
   "cell_type": "markdown",
   "metadata": {},
   "source": [
    "Para crear un diccionario vacío: "
   ]
  },
  {
   "cell_type": "code",
   "execution_count": 49,
   "metadata": {},
   "outputs": [
    {
     "data": {
      "text/plain": [
       "dict"
      ]
     },
     "execution_count": 49,
     "metadata": {},
     "output_type": "execute_result"
    }
   ],
   "source": [
    "d = dict()\n",
    "type(d)"
   ]
  },
  {
   "cell_type": "markdown",
   "metadata": {},
   "source": [
    "## Operaciones de diccionarios\n",
    "\n",
    "Veamos los métodos `keys()` y `values()`: "
   ]
  },
  {
   "cell_type": "code",
   "execution_count": 50,
   "metadata": {},
   "outputs": [],
   "source": [
    "grades = {'Ana':'B', 'John':'A+', 'Denise':'A', 'Katy':'A'}"
   ]
  },
  {
   "cell_type": "code",
   "execution_count": 21,
   "metadata": {},
   "outputs": [
    {
     "data": {
      "text/plain": [
       "dict_keys(['Ana', 'John', 'Denise', 'Katy'])"
      ]
     },
     "execution_count": 21,
     "metadata": {},
     "output_type": "execute_result"
    }
   ],
   "source": [
    "grades.keys()"
   ]
  },
  {
   "cell_type": "code",
   "execution_count": 22,
   "metadata": {},
   "outputs": [
    {
     "data": {
      "text/plain": [
       "dict_values(['B', 'A+', 'A', 'A'])"
      ]
     },
     "execution_count": 22,
     "metadata": {},
     "output_type": "execute_result"
    }
   ],
   "source": [
    "grades.values()"
   ]
  },
  {
   "cell_type": "markdown",
   "metadata": {},
   "source": [
    "Nota: el orden de iteración en un diccionario no está garantizado al utilizar estas funciones."
   ]
  },
  {
   "cell_type": "code",
   "execution_count": 25,
   "metadata": {},
   "outputs": [
    {
     "name": "stdout",
     "output_type": "stream",
     "text": [
      "La llave es Ana <class 'str'>\n",
      "La llave es John <class 'str'>\n",
      "La llave es Denise <class 'str'>\n",
      "La llave es Katy <class 'str'>\n"
     ]
    }
   ],
   "source": [
    "for keys in grades.keys():\n",
    "    print(\"La llave es\",keys,type(keys))"
   ]
  },
  {
   "cell_type": "code",
   "execution_count": 34,
   "metadata": {},
   "outputs": [
    {
     "name": "stdout",
     "output_type": "stream",
     "text": [
      "Ana grades are: B\n",
      "John grades are: A+\n",
      "Denise grades are: A\n",
      "Katy grades are: A\n"
     ]
    }
   ],
   "source": [
    "for keys in grades:\n",
    "    print(f\"{keys} grades are: {grades[keys]}\")"
   ]
  },
  {
   "cell_type": "markdown",
   "metadata": {},
   "source": [
    "## Características de las llaves y valores"
   ]
  },
  {
   "cell_type": "code",
   "execution_count": 35,
   "metadata": {},
   "outputs": [
    {
     "data": {
      "text/plain": [
       "{4: {1: 0}, (1, 3): 'twelve', 'const': [3.14, 2.7, 8.44]}"
      ]
     },
     "execution_count": 35,
     "metadata": {},
     "output_type": "execute_result"
    }
   ],
   "source": [
    "d = {4:{1:0}, \n",
    "    (1,3):\"twelve\",\n",
    "    'const':[3.14,2.7,8.44]}\n",
    "\n",
    "d"
   ]
  },
  {
   "cell_type": "code",
   "execution_count": 36,
   "metadata": {},
   "outputs": [
    {
     "data": {
      "text/plain": [
       "'twelve'"
      ]
     },
     "execution_count": 36,
     "metadata": {},
     "output_type": "execute_result"
    }
   ],
   "source": [
    "d[(1, 3)]"
   ]
  },
  {
   "cell_type": "code",
   "execution_count": 37,
   "metadata": {},
   "outputs": [
    {
     "data": {
      "text/plain": [
       "[3.14, 2.7, 8.44]"
      ]
     },
     "execution_count": 37,
     "metadata": {},
     "output_type": "execute_result"
    }
   ],
   "source": [
    "d[\"const\"]"
   ]
  },
  {
   "cell_type": "markdown",
   "metadata": {},
   "source": [
    "## Dictionary comprehension"
   ]
  },
  {
   "cell_type": "code",
   "execution_count": 51,
   "metadata": {},
   "outputs": [],
   "source": [
    "#creando un diccionario de otra manera\n",
    "f = {x: 2*x**2+2*x+1 for x in range(10)}"
   ]
  },
  {
   "cell_type": "code",
   "execution_count": 52,
   "metadata": {},
   "outputs": [
    {
     "data": {
      "text/plain": [
       "{0: 1, 1: 5, 2: 13, 3: 25, 4: 41, 5: 61, 6: 85, 7: 113, 8: 145, 9: 181}"
      ]
     },
     "execution_count": 52,
     "metadata": {},
     "output_type": "execute_result"
    }
   ],
   "source": [
    "f"
   ]
  },
  {
   "cell_type": "markdown",
   "metadata": {},
   "source": [
    "## Iteración\n",
    "\n",
    "- [How to Iterate Through a Dictionary in Python](https://realpython.com/iterate-through-dictionary-python/)\n",
    "- Ver los métodos `keys()`, `values()` e `items()`."
   ]
  },
  {
   "cell_type": "code",
   "execution_count": 53,
   "metadata": {},
   "outputs": [
    {
     "name": "stdout",
     "output_type": "stream",
     "text": [
      "f(0) = 1\n",
      "f(1) = 5\n",
      "f(2) = 13\n",
      "f(3) = 25\n",
      "f(4) = 41\n",
      "f(5) = 61\n",
      "f(6) = 85\n",
      "f(7) = 113\n",
      "f(8) = 145\n",
      "f(9) = 181\n"
     ]
    }
   ],
   "source": [
    "for x in f: \n",
    "    print(f\"f({x}) = {f[x]}\")"
   ]
  },
  {
   "cell_type": "code",
   "execution_count": 54,
   "metadata": {},
   "outputs": [
    {
     "name": "stdout",
     "output_type": "stream",
     "text": [
      "f(0) = 1\n",
      "f(1) = 5\n",
      "f(2) = 13\n",
      "f(3) = 25\n",
      "f(4) = 41\n",
      "f(5) = 61\n",
      "f(6) = 85\n",
      "f(7) = 113\n",
      "f(8) = 145\n",
      "f(9) = 181\n"
     ]
    }
   ],
   "source": [
    "for x, fx in f.items():\n",
    "    print(f\"f({x}) = {fx}\")"
   ]
  },
  {
   "cell_type": "markdown",
   "metadata": {},
   "source": [
    "## Ejemplo: diccionario de frecuencias"
   ]
  },
  {
   "cell_type": "code",
   "execution_count": 128,
   "metadata": {},
   "outputs": [],
   "source": [
    "complicity = \"\"\"\n",
    "Soy el verbo que da acción a una buena conversación\n",
    "Y cuando tu me nombras siente ganas\n",
    "Soy la nueva alternativa contra contaminación\n",
    "Y tu eres la energía que me carga\n",
    "Soy una arboleda que da sombra a tu casa\n",
    "Un viento suave que te soba la cara\n",
    "De too's tus sueños, negra, soy la manifestación\n",
    "Tu eres esa libertad soñada\n",
    "Soy la serenidad que lleva a la meditación\n",
    "Y tu eres ese tan sagrado mantra\n",
    "Soy ese juguito e' parcha que te baja la presión\n",
    "Y siempre que te sube tu me llamas ya\n",
    "Tira la sábana sal de la cama\n",
    "Vamos a conquistar toda la casa\n",
    "De todo lo que tu acostumbras soy contradicción\n",
    "Creo que eso es lo que a ti te llama\n",
    "La complicidad es tanta\n",
    "Que nuestras vibraciones se complementan\n",
    "Lo que tienes me hace falta\n",
    "Y lo que tengo te hace ser más completa\n",
    "La afinidad es tanta\n",
    "Miro a tus ojos y ya se lo que piensas\n",
    "Te quiero por que eres tantas\n",
    "Cositas bellas que me hacen creer que soy\n",
    "La levadura que te hace crecer el corazón\n",
    "Y tu la vitamina que me falta\n",
    "Soy ese rocío que se posa en tu vegetación\n",
    "Y tu esa tierra fértil que esta escasa\n",
    "Soy La blanca arena que alfombra tu playa\n",
    "Todo el follaje que da vida a tu mapa\n",
    "De toda idea creativa soy la gestación\n",
    "Tu eres la utopía deseada\n",
    "La complicidad es tanta\n",
    "Que nuestras vibraciones se complementan\n",
    "Lo que tienes me hace falta\n",
    "Y lo que tengo te hace ser más completa\n",
    "La afinidad es tanta miro a tus ojos\n",
    "Y ya se lo que piensas\n",
    "Te quiero por que eres tantas cositas\n",
    "Bellas que me hacen sentir muy bien\n",
    "Soy la locura que estremece,\n",
    "Soy tu adicción y tu eres mi felicidad, mi calma\n",
    "Soy una colonia que va en busca de liberación\n",
    "Y tu eres esa dosis de esperanza\n",
    "Soy la cordillera que en la distancia\n",
    "Te cura la visión con su elegancia\n",
    "De todo loco que lo intenta soy la frustración\n",
    "Y tu eres ese reto que me encanta\n",
    "La complicidad es tanta\n",
    "Que nuestras vibraciones se complementan\n",
    "Lo que tienes me hace falta\n",
    "Y lo que tengo te hace ser más completa\n",
    "La afinidad es tanta miro a tus ojos\n",
    "Y ya se lo que piensas\n",
    "Te quiero por que eres tantas\n",
    "Cositas bellas que me hacen sentir muy bien\n",
    "La complicidad es tanta\n",
    "Que nuestras vibraciones se complementan\n",
    "Lo que tienes me hace falta\n",
    "Y lo que tengo te hace ser más completa\n",
    "La afinidad es tanta miro a tus ojos\n",
    "Y ya se lo que piensas\n",
    "Te quiero por que eres tantas\n",
    "Cositas bellas que me hacen sentir muy bien\n",
    "\"\"\""
   ]
  },
  {
   "cell_type": "markdown",
   "metadata": {},
   "source": [
    "### Obtener las frecuencias"
   ]
  },
  {
   "cell_type": "code",
   "execution_count": 129,
   "metadata": {},
   "outputs": [],
   "source": [
    "#convierte la cancion que es string a un diccionario\n",
    "def lyrics_to_frequencies(lyrics: str):\n",
    "    #creamos un diccionario vacío\n",
    "    myDict = {}\n",
    "    #creamos la lista de palabras\n",
    "    #wordlist = lyrics.split()\n",
    "    #para cada una de las palabras del diccionario\n",
    "    for word in lyrics:#wordlist:\n",
    "        #si la palabra existe en el diccionario\n",
    "        if word in myDict:\n",
    "            #agregamos 1 a la ocurrencia\n",
    "            myDict[word] += 1\n",
    "        #si la palabra no está en el diccionario\n",
    "        else:\n",
    "            #agrega la palabra al dicionario\n",
    "            myDict[word] = 1\n",
    "    return myDict"
   ]
  },
  {
   "cell_type": "code",
   "execution_count": 55,
   "metadata": {},
   "outputs": [
    {
     "data": {
      "text/plain": [
       "' hola amigos,\\n\\neste es un string de varias lineas\\n\\nadios'"
      ]
     },
     "execution_count": 55,
     "metadata": {},
     "output_type": "execute_result"
    }
   ],
   "source": [
    "hola = \"\"\" hola amigos,\n",
    "\n",
    "este es un string de varias lineas\n",
    "\n",
    "adios\"\"\"\n",
    "hola\n",
    "#este es un string de varias lineas"
   ]
  },
  {
   "cell_type": "code",
   "execution_count": 130,
   "metadata": {},
   "outputs": [
    {
     "data": {
      "text/plain": [
       "dict"
      ]
     },
     "execution_count": 130,
     "metadata": {},
     "output_type": "execute_result"
    }
   ],
   "source": [
    "freqs = lyrics_to_frequencies(complicity.split())\n",
    "# freqs\n",
    "type(freqs)"
   ]
  },
  {
   "cell_type": "markdown",
   "metadata": {},
   "source": [
    "### Obtener las palabras más comunes"
   ]
  },
  {
   "cell_type": "code",
   "execution_count": 115,
   "metadata": {},
   "outputs": [],
   "source": [
    "#ver las palabras más comunes\n",
    "def most_common_word(freqs):\n",
    "    #obteniendo la palabra con mayor ocurrencia\n",
    "    best = max(freqs.values())\n",
    "\n",
    "    #buscar qué llave es la que genero esa frecuencia\n",
    "    words = []\n",
    "    for k in freqs:\n",
    "        if freqs[k] == best:\n",
    "            words.append(k)\n",
    "            \n",
    "    return (words, best)"
   ]
  },
  {
   "cell_type": "code",
   "execution_count": 116,
   "metadata": {},
   "outputs": [
    {
     "data": {
      "text/plain": [
       "(['que'], 42)"
      ]
     },
     "execution_count": 116,
     "metadata": {},
     "output_type": "execute_result"
    }
   ],
   "source": [
    "most_common_word(freqs)"
   ]
  },
  {
   "cell_type": "code",
   "execution_count": 117,
   "metadata": {},
   "outputs": [],
   "source": [
    "#define las ocurrencias con un minimo de veces\n",
    "def words_often(freqs_dict, minTimes):\n",
    "    # lista de palabras con ese minimo de ocurrencias\n",
    "    result = []\n",
    "    #done determina cuando termina de buscar\n",
    "    done = False\n",
    "    #copia del diccinario puesto que se va a ir modificando\n",
    "    #es decir no mutar en el que se está iterando\n",
    "    freqs = freqs_dict.copy()\n",
    "    while not done:\n",
    "        #tupla de palabras con sus ocurrencias\n",
    "        temp = most_common_word(freqs)\n",
    "        #si esa palabra aparece más veces que el minimo requerido\n",
    "        if temp[1] >= minTimes:\n",
    "            #agrega la palabra a result\n",
    "            result.append(temp)\n",
    "            for w in temp[0]:\n",
    "                #remove word from dict\n",
    "                del(freqs[w])  \n",
    "        else:\n",
    "            done = True\n",
    "    return result"
   ]
  },
  {
   "cell_type": "code",
   "execution_count": 118,
   "metadata": {},
   "outputs": [
    {
     "data": {
      "text/plain": [
       "[(['que'], 42),\n",
       " (['la'], 18),\n",
       " (['Y', 'tu'], 15),\n",
       " (['me'], 13),\n",
       " (['Soy', 'eres', 'lo'], 11),\n",
       " (['a', 'La'], 10),\n",
       " (['te', 'es', 'se', 'hace'], 9),\n",
       " (['tanta'], 8),\n",
       " (['tus', 'soy', 'ya', 'falta', 'Te'], 5)]"
      ]
     },
     "execution_count": 118,
     "metadata": {},
     "output_type": "execute_result"
    }
   ],
   "source": [
    "words_often(freqs, 5)"
   ]
  },
  {
   "cell_type": "markdown",
   "metadata": {},
   "source": [
    "## Ejercicios"
   ]
  },
  {
   "cell_type": "markdown",
   "metadata": {},
   "source": [
    "- Modificar el ejercicio anterior para que la función `lyrics_to_frequencies`  quite las palabras de 3 letras o menos. Realizar el análisis de palabras que aparecen más de 5 veces."
   ]
  },
  {
   "cell_type": "code",
   "execution_count": 151,
   "metadata": {},
   "outputs": [
    {
     "name": "stdout",
     "output_type": "stream",
     "text": [
      "['verbo', 'acción', 'buena', 'conversación', 'cuando', 'nombras', 'siente', 'ganas', 'nueva', 'alternativa', 'contra', 'contaminación', 'eres', 'energía', 'carga', 'arboleda', 'sombra', 'casa', 'viento', 'suave', 'soba', 'cara', \"too's\", 'sueños,', 'negra,', 'manifestación', 'eres', 'libertad', 'soñada', 'serenidad', 'lleva', 'meditación', 'eres', 'sagrado', 'mantra', 'juguito', 'parcha', 'baja', 'presión', 'siempre', 'sube', 'llamas', 'Tira', 'sábana', 'cama', 'Vamos', 'conquistar', 'toda', 'casa', 'todo', 'acostumbras', 'contradicción', 'Creo', 'llama', 'complicidad', 'tanta', 'nuestras', 'vibraciones', 'complementan', 'tienes', 'hace', 'falta', 'tengo', 'hace', 'completa', 'afinidad', 'tanta', 'Miro', 'ojos', 'piensas', 'quiero', 'eres', 'tantas', 'Cositas', 'bellas', 'hacen', 'creer', 'levadura', 'hace', 'crecer', 'corazón', 'vitamina', 'falta', 'rocío', 'posa', 'vegetación', 'tierra', 'fértil', 'esta', 'escasa', 'blanca', 'arena', 'alfombra', 'playa', 'Todo', 'follaje', 'vida', 'mapa', 'toda', 'idea', 'creativa', 'gestación', 'eres', 'utopía', 'deseada', 'complicidad', 'tanta', 'nuestras', 'vibraciones', 'complementan', 'tienes', 'hace', 'falta', 'tengo', 'hace', 'completa', 'afinidad', 'tanta', 'miro', 'ojos', 'piensas', 'quiero', 'eres', 'tantas', 'cositas', 'Bellas', 'hacen', 'sentir', 'bien', 'locura', 'estremece,', 'adicción', 'eres', 'felicidad,', 'calma', 'colonia', 'busca', 'liberación', 'eres', 'dosis', 'esperanza', 'cordillera', 'distancia', 'cura', 'visión', 'elegancia', 'todo', 'loco', 'intenta', 'frustración', 'eres', 'reto', 'encanta', 'complicidad', 'tanta', 'nuestras', 'vibraciones', 'complementan', 'tienes', 'hace', 'falta', 'tengo', 'hace', 'completa', 'afinidad', 'tanta', 'miro', 'ojos', 'piensas', 'quiero', 'eres', 'tantas', 'Cositas', 'bellas', 'hacen', 'sentir', 'bien', 'complicidad', 'tanta', 'nuestras', 'vibraciones', 'complementan', 'tienes', 'hace', 'falta', 'tengo', 'hace', 'completa', 'afinidad', 'tanta', 'miro', 'ojos', 'piensas', 'quiero', 'eres', 'tantas', 'Cositas', 'bellas', 'hacen', 'sentir', 'bien']\n"
     ]
    },
    {
     "data": {
      "text/plain": [
       "{}"
      ]
     },
     "execution_count": 151,
     "metadata": {},
     "output_type": "execute_result"
    }
   ],
   "source": [
    "#convierte la cancion que es string a un diccionario\n",
    "def lyrics_to_frequencies(lyrics: str):\n",
    "    #creamos un diccionario vacío\n",
    "    myDict = {}\n",
    "    #creamos la lista de palabras\n",
    "    #wordlist = lyrics.split()\n",
    "    \n",
    "    new_wordlist=[]\n",
    "    #ciclo para reducir numero de palabras\n",
    "    for word in lyrics:#wordlist:\n",
    "        if len(word) > 3:\n",
    "            new_wordlist.append(word)\n",
    "                \n",
    "    #para cada una de las palabras del diccionario\n",
    "    for word in new_wordlist:\n",
    "        #si la palabra existe en el diccionario\n",
    "        if word in myDict:\n",
    "            #agregamos 1 a la ocurrencia\n",
    "            myDict[word] += 1\n",
    "        #si la palabra no está en el diccionario\n",
    "        else:\n",
    "            #agrega la palabra al dicionario\n",
    "            myDict[word] = 1\n",
    "    return myDict\n",
    "\n",
    "print(new_wordlist)\n",
    "lyrics_to_frequencies(complicity)\n",
    "#lyrics_to_frequencies(complicity)\n",
    "#words_often(complicity, 5)"
   ]
  },
  {
   "cell_type": "code",
   "execution_count": null,
   "metadata": {},
   "outputs": [],
   "source": [
    "#wordlist = complicity.split()\n",
    "#new_wordlist=[]\n",
    "#ciclo para reducir numero de palabras\n",
    "#for word in wordlist:\n",
    "#    if len(word) > 3:\n",
    "#        new_wordlist.append(word)\n",
    "#print(new_wordlist)"
   ]
  },
  {
   "cell_type": "code",
   "execution_count": 148,
   "metadata": {},
   "outputs": [
    {
     "name": "stdout",
     "output_type": "stream",
     "text": [
      "{}\n"
     ]
    },
    {
     "ename": "KeyError",
     "evalue": "2",
     "output_type": "error",
     "traceback": [
      "\u001b[1;31m---------------------------------------------------------------------------\u001b[0m",
      "\u001b[1;31mKeyError\u001b[0m                                  Traceback (most recent call last)",
      "\u001b[1;32m<ipython-input-148-2bdd3366dbe1>\u001b[0m in \u001b[0;36m<module>\u001b[1;34m\u001b[0m\n\u001b[0;32m      1\u001b[0m \u001b[0mfreqs\u001b[0m \u001b[1;33m=\u001b[0m \u001b[0mlyrics_to_frequencies\u001b[0m\u001b[1;33m(\u001b[0m\u001b[0mcomplicity\u001b[0m\u001b[1;33m)\u001b[0m\u001b[1;33m\u001b[0m\u001b[1;33m\u001b[0m\u001b[0m\n\u001b[0;32m      2\u001b[0m \u001b[0mprint\u001b[0m\u001b[1;33m(\u001b[0m\u001b[0mfreqs\u001b[0m\u001b[1;33m)\u001b[0m\u001b[1;33m\u001b[0m\u001b[1;33m\u001b[0m\u001b[0m\n\u001b[1;32m----> 3\u001b[1;33m \u001b[0mfreqs\u001b[0m\u001b[1;33m[\u001b[0m\u001b[1;36m2\u001b[0m\u001b[1;33m]\u001b[0m\u001b[1;33m\u001b[0m\u001b[1;33m\u001b[0m\u001b[0m\n\u001b[0m",
      "\u001b[1;31mKeyError\u001b[0m: 2"
     ]
    }
   ],
   "source": [
    "freqs = lyrics_to_frequencies(complicity)\n",
    "print(freqs)\n",
    "freqs[2]"
   ]
  },
  {
   "cell_type": "code",
   "execution_count": 136,
   "metadata": {},
   "outputs": [],
   "source": [
    "#ver las palabras más comunes\n",
    "def most_common_word(freqs):\n",
    "    #obteniendo la palabra con mayor ocurrencia\n",
    "    best = max(freqs.values())\n",
    "\n",
    "    #buscar qué llave es la que genero esa frecuencia\n",
    "    words = []\n",
    "    for k in freqs:\n",
    "        if freqs[k] == best:\n",
    "            words.append(k)\n",
    "            \n",
    "    return (words, best)"
   ]
  },
  {
   "cell_type": "code",
   "execution_count": null,
   "metadata": {},
   "outputs": [],
   "source": [
    "most_common_word(freqs)"
   ]
  },
  {
   "cell_type": "code",
   "execution_count": null,
   "metadata": {},
   "outputs": [],
   "source": [
    "#define las ocurrencias con un minimo de veces\n",
    "def words_often(freqs_dict, minTimes):\n",
    "    # lista de palabras con ese minimo de ocurrencias\n",
    "    result = []\n",
    "    #done determina cuando termina de buscar\n",
    "    done = False\n",
    "    #copia del diccinario puesto que se va a ir modificando\n",
    "    #es decir no mutar en el que se está iterando\n",
    "    freqs = freqs_dict.copy()\n",
    "    while not done:\n",
    "        #tupla de palabras con sus ocurrencias\n",
    "        temp = most_common_word(freqs)\n",
    "        #si esa palabra aparece más veces que el minimo requerido\n",
    "        if temp[1] >= minTimes:\n",
    "            #agrega la palabra a result\n",
    "            result.append(temp)\n",
    "            for w in temp[0]:\n",
    "                #remove word from dict\n",
    "                del(freqs[w])  \n",
    "        else:\n",
    "            done = True\n",
    "    return result"
   ]
  },
  {
   "cell_type": "code",
   "execution_count": null,
   "metadata": {},
   "outputs": [],
   "source": [
    "words_often(freqs, 5)"
   ]
  },
  {
   "cell_type": "markdown",
   "metadata": {},
   "source": [
    "- Crear un diccionario con los primeros 100 números primos. "
   ]
  },
  {
   "cell_type": "code",
   "execution_count": null,
   "metadata": {},
   "outputs": [],
   "source": [
    "#{2:3, 3:5, 5:7....}"
   ]
  }
 ],
 "metadata": {
  "interpreter": {
   "hash": "f13a15f6d8e6dbf190362d83f8f24b25050c3603e79608f15fd979d60be4a590"
  },
  "kernelspec": {
   "display_name": "Python 3.9.7 64-bit ('bg': conda)",
   "language": "python",
   "name": "python3"
  },
  "language_info": {
   "codemirror_mode": {
    "name": "ipython",
    "version": 3
   },
   "file_extension": ".py",
   "mimetype": "text/x-python",
   "name": "python",
   "nbconvert_exporter": "python",
   "pygments_lexer": "ipython3",
   "version": "3.8.5"
  },
  "orig_nbformat": 4
 },
 "nbformat": 4,
 "nbformat_minor": 2
}
